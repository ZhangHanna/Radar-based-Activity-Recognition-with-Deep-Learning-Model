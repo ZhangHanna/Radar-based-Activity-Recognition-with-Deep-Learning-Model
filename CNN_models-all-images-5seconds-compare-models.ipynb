{
 "cells": [
  {
   "cell_type": "markdown",
   "metadata": {},
   "source": [
    "# 读取数据"
   ]
  },
  {
   "cell_type": "code",
   "execution_count": 43,
   "metadata": {},
   "outputs": [],
   "source": [
    "import os\n",
    "import cv2\n",
    "from tqdm import tqdm\n",
    "from tensorflow.keras.layers import *\n",
    "from tensorflow.keras.models import *\n",
    "from tensorflow.keras.callbacks import *\n",
    "from tensorflow.keras.optimizers import *\n",
    "from tensorflow.keras.applications import *\n",
    "from tensorflow.keras.preprocessing.image import *"
   ]
  },
  {
   "cell_type": "code",
   "execution_count": 44,
   "metadata": {},
   "outputs": [],
   "source": [
    "import pickle\n",
    "df1 = pickle.load(open('df5_results1.pkl', 'rb'))\n",
    "df2 = pickle.load(open('df5_results2.pkl', 'rb'))\n",
    "df3 = pickle.load(open('df5_results3.pkl', 'rb'))\n",
    "df4 = pickle.load(open('df5_results4.pkl', 'rb'))\n",
    "df5 = pickle.load(open('df5_results5.pkl', 'rb'))\n",
    "df6 = pickle.load(open('df5_results6.pkl', 'rb'))\n",
    "df7 = pickle.load(open('df5_results7.pkl', 'rb'))"
   ]
  },
  {
   "cell_type": "code",
   "execution_count": 45,
   "metadata": {},
   "outputs": [],
   "source": [
    "import pandas as pd\n",
    "df = pd.concat([df1, df2, df3, df4, df5, df6, df7], ignore_index=True)"
   ]
  },
  {
   "cell_type": "code",
   "execution_count": 46,
   "metadata": {},
   "outputs": [
    {
     "data": {
      "text/html": [
       "<div>\n",
       "<style scoped>\n",
       "    .dataframe tbody tr th:only-of-type {\n",
       "        vertical-align: middle;\n",
       "    }\n",
       "\n",
       "    .dataframe tbody tr th {\n",
       "        vertical-align: top;\n",
       "    }\n",
       "\n",
       "    .dataframe thead th {\n",
       "        text-align: right;\n",
       "    }\n",
       "</style>\n",
       "<table border=\"1\" class=\"dataframe\">\n",
       "  <thead>\n",
       "    <tr style=\"text-align: right;\">\n",
       "      <th></th>\n",
       "      <th>images</th>\n",
       "      <th>activity</th>\n",
       "      <th>person</th>\n",
       "    </tr>\n",
       "  </thead>\n",
       "  <tbody>\n",
       "    <tr>\n",
       "      <th>0</th>\n",
       "      <td>F:\\Github\\radar_HAR\\images_5seconds\\1\\1P36A01R...</td>\n",
       "      <td>1</td>\n",
       "      <td>36</td>\n",
       "    </tr>\n",
       "    <tr>\n",
       "      <th>1</th>\n",
       "      <td>F:\\Github\\radar_HAR\\images_5seconds\\1\\1P36A01R...</td>\n",
       "      <td>1</td>\n",
       "      <td>36</td>\n",
       "    </tr>\n",
       "    <tr>\n",
       "      <th>2</th>\n",
       "      <td>F:\\Github\\radar_HAR\\images_5seconds\\1\\1P36A01R...</td>\n",
       "      <td>1</td>\n",
       "      <td>36</td>\n",
       "    </tr>\n",
       "    <tr>\n",
       "      <th>3</th>\n",
       "      <td>F:\\Github\\radar_HAR\\images_5seconds\\1\\1P36A01R...</td>\n",
       "      <td>1</td>\n",
       "      <td>36</td>\n",
       "    </tr>\n",
       "    <tr>\n",
       "      <th>4</th>\n",
       "      <td>F:\\Github\\radar_HAR\\images_5seconds\\1\\1P36A01R...</td>\n",
       "      <td>1</td>\n",
       "      <td>36</td>\n",
       "    </tr>\n",
       "  </tbody>\n",
       "</table>\n",
       "</div>"
      ],
      "text/plain": [
       "                                              images  activity  person\n",
       "0  F:\\Github\\radar_HAR\\images_5seconds\\1\\1P36A01R...         1      36\n",
       "1  F:\\Github\\radar_HAR\\images_5seconds\\1\\1P36A01R...         1      36\n",
       "2  F:\\Github\\radar_HAR\\images_5seconds\\1\\1P36A01R...         1      36\n",
       "3  F:\\Github\\radar_HAR\\images_5seconds\\1\\1P36A01R...         1      36\n",
       "4  F:\\Github\\radar_HAR\\images_5seconds\\1\\1P36A01R...         1      36"
      ]
     },
     "execution_count": 46,
     "metadata": {},
     "output_type": "execute_result"
    }
   ],
   "source": [
    "df.head()"
   ]
  },
  {
   "cell_type": "code",
   "execution_count": 47,
   "metadata": {},
   "outputs": [
    {
     "data": {
      "text/plain": [
       "(3397, 3)"
      ]
     },
     "execution_count": 47,
     "metadata": {},
     "output_type": "execute_result"
    }
   ],
   "source": [
    "df.shape"
   ]
  },
  {
   "cell_type": "markdown",
   "metadata": {},
   "source": [
    "按类别名称进行编码："
   ]
  },
  {
   "cell_type": "code",
   "execution_count": 48,
   "metadata": {},
   "outputs": [],
   "source": [
    "from sklearn.preprocessing import LabelEncoder\n",
    "activity_encoder = LabelEncoder()\n",
    "df['activity_label'] = activity_encoder.fit_transform(df['activity'])"
   ]
  },
  {
   "cell_type": "code",
   "execution_count": 49,
   "metadata": {},
   "outputs": [],
   "source": [
    "person_encoder = LabelEncoder()\n",
    "df['person_label'] = person_encoder.fit_transform(df['person'])"
   ]
  },
  {
   "cell_type": "code",
   "execution_count": 50,
   "metadata": {},
   "outputs": [
    {
     "data": {
      "text/html": [
       "<div>\n",
       "<style scoped>\n",
       "    .dataframe tbody tr th:only-of-type {\n",
       "        vertical-align: middle;\n",
       "    }\n",
       "\n",
       "    .dataframe tbody tr th {\n",
       "        vertical-align: top;\n",
       "    }\n",
       "\n",
       "    .dataframe thead th {\n",
       "        text-align: right;\n",
       "    }\n",
       "</style>\n",
       "<table border=\"1\" class=\"dataframe\">\n",
       "  <thead>\n",
       "    <tr style=\"text-align: right;\">\n",
       "      <th></th>\n",
       "      <th>images</th>\n",
       "      <th>activity</th>\n",
       "      <th>person</th>\n",
       "      <th>activity_label</th>\n",
       "      <th>person_label</th>\n",
       "    </tr>\n",
       "  </thead>\n",
       "  <tbody>\n",
       "    <tr>\n",
       "      <th>0</th>\n",
       "      <td>F:\\Github\\radar_HAR\\images_5seconds\\1\\1P36A01R...</td>\n",
       "      <td>1</td>\n",
       "      <td>36</td>\n",
       "      <td>0</td>\n",
       "      <td>35</td>\n",
       "    </tr>\n",
       "    <tr>\n",
       "      <th>1</th>\n",
       "      <td>F:\\Github\\radar_HAR\\images_5seconds\\1\\1P36A01R...</td>\n",
       "      <td>1</td>\n",
       "      <td>36</td>\n",
       "      <td>0</td>\n",
       "      <td>35</td>\n",
       "    </tr>\n",
       "    <tr>\n",
       "      <th>2</th>\n",
       "      <td>F:\\Github\\radar_HAR\\images_5seconds\\1\\1P36A01R...</td>\n",
       "      <td>1</td>\n",
       "      <td>36</td>\n",
       "      <td>0</td>\n",
       "      <td>35</td>\n",
       "    </tr>\n",
       "    <tr>\n",
       "      <th>3</th>\n",
       "      <td>F:\\Github\\radar_HAR\\images_5seconds\\1\\1P36A01R...</td>\n",
       "      <td>1</td>\n",
       "      <td>36</td>\n",
       "      <td>0</td>\n",
       "      <td>35</td>\n",
       "    </tr>\n",
       "    <tr>\n",
       "      <th>4</th>\n",
       "      <td>F:\\Github\\radar_HAR\\images_5seconds\\1\\1P36A01R...</td>\n",
       "      <td>1</td>\n",
       "      <td>36</td>\n",
       "      <td>0</td>\n",
       "      <td>35</td>\n",
       "    </tr>\n",
       "  </tbody>\n",
       "</table>\n",
       "</div>"
      ],
      "text/plain": [
       "                                              images  activity  person  \\\n",
       "0  F:\\Github\\radar_HAR\\images_5seconds\\1\\1P36A01R...         1      36   \n",
       "1  F:\\Github\\radar_HAR\\images_5seconds\\1\\1P36A01R...         1      36   \n",
       "2  F:\\Github\\radar_HAR\\images_5seconds\\1\\1P36A01R...         1      36   \n",
       "3  F:\\Github\\radar_HAR\\images_5seconds\\1\\1P36A01R...         1      36   \n",
       "4  F:\\Github\\radar_HAR\\images_5seconds\\1\\1P36A01R...         1      36   \n",
       "\n",
       "   activity_label  person_label  \n",
       "0               0            35  \n",
       "1               0            35  \n",
       "2               0            35  \n",
       "3               0            35  \n",
       "4               0            35  "
      ]
     },
     "execution_count": 50,
     "metadata": {},
     "output_type": "execute_result"
    }
   ],
   "source": [
    "df.head()"
   ]
  },
  {
   "cell_type": "code",
   "execution_count": 51,
   "metadata": {},
   "outputs": [
    {
     "data": {
      "text/plain": [
       "5"
      ]
     },
     "execution_count": 51,
     "metadata": {},
     "output_type": "execute_result"
    }
   ],
   "source": [
    "max(df['activity_label'])"
   ]
  },
  {
   "cell_type": "code",
   "execution_count": 52,
   "metadata": {},
   "outputs": [
    {
     "data": {
      "text/plain": [
       "71"
      ]
     },
     "execution_count": 52,
     "metadata": {},
     "output_type": "execute_result"
    }
   ],
   "source": [
    "max(df['person_label'])"
   ]
  },
  {
   "cell_type": "markdown",
   "metadata": {},
   "source": [
    "# Activity classification"
   ]
  },
  {
   "cell_type": "code",
   "execution_count": 53,
   "metadata": {},
   "outputs": [],
   "source": [
    "X_col = 'images'"
   ]
  },
  {
   "cell_type": "code",
   "execution_count": 54,
   "metadata": {},
   "outputs": [],
   "source": [
    "y_col = 'activity_label'  # 后面直接改这个为person_label就好"
   ]
  },
  {
   "cell_type": "markdown",
   "metadata": {},
   "source": [
    "进行数据集的划分："
   ]
  },
  {
   "cell_type": "code",
   "execution_count": 55,
   "metadata": {},
   "outputs": [],
   "source": [
    "from sklearn.model_selection import StratifiedShuffleSplit\n",
    "\n",
    "split = StratifiedShuffleSplit(n_splits=1, test_size=0.2, random_state=42)\n",
    "\n",
    "# 按照y进行分层采样\n",
    "# 20%的数据作为测试集\n",
    "for train_index, test_index in split.split(df, df[y_col]):\n",
    "    strat_train_set = df.loc[train_index]\n",
    "    strat_test_set = df.loc[test_index]"
   ]
  },
  {
   "cell_type": "code",
   "execution_count": 56,
   "metadata": {},
   "outputs": [
    {
     "data": {
      "text/plain": [
       "(2717, 5)"
      ]
     },
     "execution_count": 56,
     "metadata": {},
     "output_type": "execute_result"
    }
   ],
   "source": [
    "strat_train_set.shape"
   ]
  },
  {
   "cell_type": "code",
   "execution_count": 57,
   "metadata": {},
   "outputs": [
    {
     "data": {
      "text/plain": [
       "(680, 5)"
      ]
     },
     "execution_count": 57,
     "metadata": {},
     "output_type": "execute_result"
    }
   ],
   "source": [
    "strat_test_set.shape"
   ]
  },
  {
   "cell_type": "markdown",
   "metadata": {},
   "source": [
    "接下来利用ImageDataGenerator来准备训练用的generator"
   ]
  },
  {
   "cell_type": "code",
   "execution_count": 58,
   "metadata": {},
   "outputs": [
    {
     "name": "stdout",
     "output_type": "stream",
     "text": [
      "Found 2174 validated image filenames.\n",
      "Found 543 validated image filenames.\n"
     ]
    }
   ],
   "source": [
    "# 图像归一化\n",
    "# 并且划分20%的训练集数据作为验证集数据\n",
    "datagen = ImageDataGenerator(rescale=1./255, validation_split=0.2)\n",
    "\n",
    "# 设置小批量的大小\n",
    "batch_size = 32\n",
    "# 统一图片的分辨率\n",
    "target_size = (75, 125)\n",
    "\n",
    "# 我们的dataframe中保存的路径足够\n",
    "# 否则还需要指明directory来表示文件存放的路径\n",
    "train_generator=datagen.flow_from_dataframe(dataframe=strat_train_set, \n",
    "                                            x_col=X_col,\n",
    "                                            y_col=y_col,\n",
    "                                            subset=\"training\",\n",
    "                                            seed=44,  # 随机数种子\n",
    "                                            class_mode=\"raw\",\n",
    "                                            color_mode=\"grayscale\",  # 按照灰度图处理\n",
    "                                            target_size=target_size,  # 这里把图片变小\n",
    "                                            batch_size=batch_size) # batch_size\n",
    "\n",
    "# 划分验证集\n",
    "valid_generator=datagen.flow_from_dataframe(dataframe=strat_train_set, \n",
    "                                            x_col=X_col,\n",
    "                                            y_col=y_col,\n",
    "                                            subset=\"validation\",\n",
    "                                            seed=44,  # 随机数种子\n",
    "                                            class_mode=\"raw\",\n",
    "                                            color_mode=\"grayscale\",  # 按照灰度图处理\n",
    "                                            target_size=target_size,  # 这里把图片变小\n",
    "                                            batch_size=batch_size) # batch_size"
   ]
  },
  {
   "cell_type": "markdown",
   "metadata": {},
   "source": [
    "分别查看训练集和验证集的数量："
   ]
  },
  {
   "cell_type": "code",
   "execution_count": 59,
   "metadata": {},
   "outputs": [
    {
     "data": {
      "text/plain": [
       "2174"
      ]
     },
     "execution_count": 59,
     "metadata": {},
     "output_type": "execute_result"
    }
   ],
   "source": [
    "train_generator.n"
   ]
  },
  {
   "cell_type": "code",
   "execution_count": 60,
   "metadata": {},
   "outputs": [
    {
     "data": {
      "text/plain": [
       "32"
      ]
     },
     "execution_count": 60,
     "metadata": {},
     "output_type": "execute_result"
    }
   ],
   "source": [
    "train_generator.batch_size"
   ]
  },
  {
   "cell_type": "code",
   "execution_count": 61,
   "metadata": {},
   "outputs": [
    {
     "data": {
      "text/plain": [
       "543"
      ]
     },
     "execution_count": 61,
     "metadata": {},
     "output_type": "execute_result"
    }
   ],
   "source": [
    "valid_generator.n"
   ]
  },
  {
   "cell_type": "code",
   "execution_count": 62,
   "metadata": {},
   "outputs": [
    {
     "data": {
      "text/plain": [
       "32"
      ]
     },
     "execution_count": 62,
     "metadata": {},
     "output_type": "execute_result"
    }
   ],
   "source": [
    "valid_generator.batch_size"
   ]
  },
  {
   "cell_type": "code",
   "execution_count": 63,
   "metadata": {},
   "outputs": [
    {
     "name": "stdout",
     "output_type": "stream",
     "text": [
      "(32, 75, 125, 1)\n",
      "(32,)\n"
     ]
    }
   ],
   "source": [
    "for X_batch, y_batch in train_generator:\n",
    "    print(X_batch.shape)\n",
    "    print(y_batch.shape)\n",
    "    break"
   ]
  },
  {
   "cell_type": "code",
   "execution_count": 64,
   "metadata": {},
   "outputs": [
    {
     "data": {
      "text/plain": [
       "<matplotlib.image.AxesImage at 0x1eb74b1b390>"
      ]
     },
     "execution_count": 64,
     "metadata": {},
     "output_type": "execute_result"
    },
    {
     "data": {
      "image/png": "[encoded data removed]",
      "text/plain": [
       "<Figure size 432x288 with 1 Axes>"
      ]
     },
     "metadata": {
      "needs_background": "light"
     },
     "output_type": "display_data"
    }
   ],
   "source": [
    "import matplotlib\n",
    "%matplotlib inline\n",
    "import matplotlib.pyplot as plt\n",
    "plt.imshow(X_batch[0][:,:,0], cmap='gray')"
   ]
  },
  {
   "cell_type": "code",
   "execution_count": 65,
   "metadata": {},
   "outputs": [
    {
     "data": {
      "text/plain": [
       "0"
      ]
     },
     "execution_count": 65,
     "metadata": {},
     "output_type": "execute_result"
    }
   ],
   "source": [
    "y_batch[0]"
   ]
  },
  {
   "cell_type": "markdown",
   "metadata": {},
   "source": [
    "构建test_generator"
   ]
  },
  {
   "cell_type": "code",
   "execution_count": 66,
   "metadata": {},
   "outputs": [
    {
     "name": "stdout",
     "output_type": "stream",
     "text": [
      "Found 680 validated image filenames.\n"
     ]
    }
   ],
   "source": [
    "# 图像归一化\n",
    "datagen=ImageDataGenerator(rescale=1./255)\n",
    "\n",
    "# 我们的dataframe中保存的路径足够\n",
    "# 否则还需要指明directory来表示文件存放的路径\n",
    "test_generator=datagen.flow_from_dataframe(dataframe=strat_test_set, \n",
    "                                            x_col=X_col,\n",
    "                                            y_col=y_col,\n",
    "                                            class_mode=\"raw\",\n",
    "                                            color_mode=\"grayscale\",  # 按照灰度图处理\n",
    "                                            target_size=target_size,  # 这里把图片变小\n",
    "                                            batch_size=batch_size) # batch_size"
   ]
  },
  {
   "cell_type": "code",
   "execution_count": 67,
   "metadata": {},
   "outputs": [
    {
     "data": {
      "text/plain": [
       "680"
      ]
     },
     "execution_count": 67,
     "metadata": {},
     "output_type": "execute_result"
    }
   ],
   "source": [
    "test_generator.n"
   ]
  },
  {
   "cell_type": "code",
   "execution_count": 68,
   "metadata": {},
   "outputs": [
    {
     "data": {
      "text/plain": [
       "32"
      ]
     },
     "execution_count": 68,
     "metadata": {},
     "output_type": "execute_result"
    }
   ],
   "source": [
    "test_generator.batch_size"
   ]
  },
  {
   "cell_type": "markdown",
   "metadata": {},
   "source": [
    "# 模型尝试"
   ]
  },
  {
   "cell_type": "markdown",
   "metadata": {},
   "source": [
    "定义不同结构的模型并且进行比较："
   ]
  },
  {
   "cell_type": "code",
   "execution_count": 69,
   "metadata": {},
   "outputs": [],
   "source": [
    "nb_classes = max(df[y_col]) + 1"
   ]
  },
  {
   "cell_type": "code",
   "execution_count": 70,
   "metadata": {},
   "outputs": [],
   "source": [
    "from keras.models import Model, Sequential\n",
    "from keras.layers import Input, Dense, Convolution2D, MaxPooling2D, Flatten, Dropout"
   ]
  },
  {
   "cell_type": "code",
   "execution_count": 71,
   "metadata": {},
   "outputs": [],
   "source": [
    "def make_model(nb_filters, img_rows, img_cols, nb_classes):\n",
    "    \"\"\"\n",
    "    Make and return the CNN model\n",
    "    :param nb_filters: Number of filters to use in layers 1,2 and 3,4 respectively\n",
    "    :type nb_filters: str containing the number of filters for the first two layers followed by \n",
    "    the last two layers, for example: \"16-32\"\n",
    "    :param img_rows: image height\n",
    "    :type img_rows: int\n",
    "    :param img_cols: image width\n",
    "    :type img_cols: int\n",
    "    :param nb_classes: Number of classes to be predicted\n",
    "    :type nb_classes: int\n",
    "    :return: CNN model\n",
    "    :rtype: Keras sequential model\n",
    "    \"\"\"\n",
    "    model = Sequential(name=nb_filters)\n",
    "    nb_filters = nb_filters.split(\"-\")\n",
    "    size_1 = int(nb_filters[0])\n",
    "    size_2 = int(nb_filters[1])\n",
    "\n",
    "    model.add(Convolution2D(size_1, (3, 3), padding='same', input_shape=(img_rows, img_cols, 1), activation='relu'))\n",
    "    model.add(Convolution2D(size_1, (3, 3), activation='relu'))\n",
    "    model.add(MaxPooling2D(pool_size=(2, 2)))\n",
    "    model.add(Dropout(0.25))\n",
    "\n",
    "    model.add(Convolution2D(size_2, (3, 3), padding='same', activation='relu'))\n",
    "    model.add(Convolution2D(size_2, (3, 3), activation='relu'))\n",
    "    model.add(MaxPooling2D(pool_size=(2, 2)))\n",
    "    model.add(Dropout(0.25))\n",
    "\n",
    "    model.add(Flatten())\n",
    "    model.add(Dense(512, activation='relu'))\n",
    "    model.add(Dropout(0.5))\n",
    "    model.add(Dense(nb_classes, activation='softmax'))\n",
    "    return model"
   ]
  },
  {
   "cell_type": "code",
   "execution_count": 72,
   "metadata": {},
   "outputs": [],
   "source": [
    "model = make_model('16-32', 75, 125, nb_classes)"
   ]
  },
  {
   "cell_type": "code",
   "execution_count": 73,
   "metadata": {},
   "outputs": [
    {
     "name": "stdout",
     "output_type": "stream",
     "text": [
      "Model: \"16-32\"\n",
      "_________________________________________________________________\n",
      "Layer (type)                 Output Shape              Param #   \n",
      "=================================================================\n",
      "conv2d_28 (Conv2D)           (None, 75, 125, 16)       160       \n",
      "_________________________________________________________________\n",
      "conv2d_29 (Conv2D)           (None, 73, 123, 16)       2320      \n",
      "_________________________________________________________________\n",
      "max_pooling2d_14 (MaxPooling (None, 36, 61, 16)        0         \n",
      "_________________________________________________________________\n",
      "dropout_21 (Dropout)         (None, 36, 61, 16)        0         \n",
      "_________________________________________________________________\n",
      "conv2d_30 (Conv2D)           (None, 36, 61, 32)        4640      \n",
      "_________________________________________________________________\n",
      "conv2d_31 (Conv2D)           (None, 34, 59, 32)        9248      \n",
      "_________________________________________________________________\n",
      "max_pooling2d_15 (MaxPooling (None, 17, 29, 32)        0         \n",
      "_________________________________________________________________\n",
      "dropout_22 (Dropout)         (None, 17, 29, 32)        0         \n",
      "_________________________________________________________________\n",
      "flatten_7 (Flatten)          (None, 15776)             0         \n",
      "_________________________________________________________________\n",
      "dense_14 (Dense)             (None, 512)               8077824   \n",
      "_________________________________________________________________\n",
      "dropout_23 (Dropout)         (None, 512)               0         \n",
      "_________________________________________________________________\n",
      "dense_15 (Dense)             (None, 6)                 3078      \n",
      "=================================================================\n",
      "Total params: 8,097,270\n",
      "Trainable params: 8,097,270\n",
      "Non-trainable params: 0\n",
      "_________________________________________________________________\n"
     ]
    }
   ],
   "source": [
    "model.summary()"
   ]
  },
  {
   "cell_type": "code",
   "execution_count": 74,
   "metadata": {},
   "outputs": [
    {
     "name": "stdout",
     "output_type": "stream",
     "text": [
      "Epoch 1/30\n",
      "67/67 [==============================] - 1s 20ms/step - loss: 1.2367 - accuracy: 0.5654 - val_loss: 0.7976 - val_accuracy: 0.6562\n",
      "Epoch 2/30\n",
      "67/67 [==============================] - 1s 18ms/step - loss: 0.7281 - accuracy: 0.7302 - val_loss: 0.6593 - val_accuracy: 0.7871\n",
      "Epoch 3/30\n",
      "67/67 [==============================] - 1s 18ms/step - loss: 0.5839 - accuracy: 0.7904 - val_loss: 0.4913 - val_accuracy: 0.8164\n",
      "Epoch 4/30\n",
      "67/67 [==============================] - 1s 18ms/step - loss: 0.4827 - accuracy: 0.8273 - val_loss: 0.4480 - val_accuracy: 0.8574\n",
      "Epoch 5/30\n",
      "67/67 [==============================] - 1s 18ms/step - loss: 0.4426 - accuracy: 0.8459 - val_loss: 0.4175 - val_accuracy: 0.8438\n",
      "Epoch 6/30\n",
      "67/67 [==============================] - 1s 18ms/step - loss: 0.3986 - accuracy: 0.8492 - val_loss: 0.3277 - val_accuracy: 0.8984\n",
      "Epoch 7/30\n",
      "67/67 [==============================] - 1s 19ms/step - loss: 0.3547 - accuracy: 0.8735 - val_loss: 0.3076 - val_accuracy: 0.8965\n",
      "Epoch 8/30\n",
      "67/67 [==============================] - 1s 18ms/step - loss: 0.3223 - accuracy: 0.8828 - val_loss: 0.3051 - val_accuracy: 0.9062\n",
      "Epoch 9/30\n",
      "67/67 [==============================] - 1s 18ms/step - loss: 0.3044 - accuracy: 0.8940 - val_loss: 0.2941 - val_accuracy: 0.9141\n",
      "Epoch 10/30\n",
      "67/67 [==============================] - 1s 19ms/step - loss: 0.2861 - accuracy: 0.8917 - val_loss: 0.2693 - val_accuracy: 0.9004\n",
      "Epoch 11/30\n",
      "67/67 [==============================] - 1s 19ms/step - loss: 0.2591 - accuracy: 0.9132 - val_loss: 0.2982 - val_accuracy: 0.9004\n",
      "Epoch 12/30\n",
      "67/67 [==============================] - 1s 19ms/step - loss: 0.2554 - accuracy: 0.9099 - val_loss: 0.2828 - val_accuracy: 0.9062\n",
      "Epoch 13/30\n",
      "67/67 [==============================] - 1s 18ms/step - loss: 0.2419 - accuracy: 0.9085 - val_loss: 0.2639 - val_accuracy: 0.9160\n",
      "Epoch 14/30\n",
      "67/67 [==============================] - 1s 18ms/step - loss: 0.2204 - accuracy: 0.9206 - val_loss: 0.2677 - val_accuracy: 0.9180\n",
      "Epoch 15/30\n",
      "67/67 [==============================] - 1s 18ms/step - loss: 0.2076 - accuracy: 0.9244 - val_loss: 0.2348 - val_accuracy: 0.9199\n",
      "Epoch 16/30\n",
      "67/67 [==============================] - 1s 20ms/step - loss: 0.2073 - accuracy: 0.9178 - val_loss: 0.2233 - val_accuracy: 0.9297\n",
      "Epoch 17/30\n",
      "67/67 [==============================] - 1s 19ms/step - loss: 0.1845 - accuracy: 0.9323 - val_loss: 0.2349 - val_accuracy: 0.9258\n",
      "Epoch 18/30\n",
      "67/67 [==============================] - 1s 19ms/step - loss: 0.2077 - accuracy: 0.9183 - val_loss: 0.2431 - val_accuracy: 0.9160\n",
      "Epoch 19/30\n",
      "67/67 [==============================] - 1s 19ms/step - loss: 0.1652 - accuracy: 0.9365 - val_loss: 0.2269 - val_accuracy: 0.9316\n",
      "Epoch 20/30\n",
      "67/67 [==============================] - 1s 19ms/step - loss: 0.1625 - accuracy: 0.9449 - val_loss: 0.2340 - val_accuracy: 0.9316\n",
      "Epoch 21/30\n",
      "67/67 [==============================] - 1s 19ms/step - loss: 0.1559 - accuracy: 0.9388 - val_loss: 0.2713 - val_accuracy: 0.9141\n",
      "Epoch 22/30\n",
      "67/67 [==============================] - 1s 18ms/step - loss: 0.1516 - accuracy: 0.9421 - val_loss: 0.2761 - val_accuracy: 0.9238\n",
      "Epoch 23/30\n",
      "67/67 [==============================] - 1s 19ms/step - loss: 0.1410 - accuracy: 0.9435 - val_loss: 0.2780 - val_accuracy: 0.9160\n",
      "Epoch 24/30\n",
      "67/67 [==============================] - 1s 19ms/step - loss: 0.1489 - accuracy: 0.9421 - val_loss: 0.2658 - val_accuracy: 0.9160\n",
      "Epoch 25/30\n",
      "67/67 [==============================] - 1s 18ms/step - loss: 0.1273 - accuracy: 0.9538 - val_loss: 0.2560 - val_accuracy: 0.9219\n",
      "Epoch 26/30\n",
      "67/67 [==============================] - 1s 18ms/step - loss: 0.1142 - accuracy: 0.9538 - val_loss: 0.2677 - val_accuracy: 0.9277\n",
      "Epoch 27/30\n",
      "67/67 [==============================] - 1s 18ms/step - loss: 0.1472 - accuracy: 0.9500 - val_loss: 0.2361 - val_accuracy: 0.9336\n",
      "Epoch 28/30\n",
      "67/67 [==============================] - 1s 19ms/step - loss: 0.1297 - accuracy: 0.9514 - val_loss: 0.2789 - val_accuracy: 0.9199\n",
      "Epoch 29/30\n",
      "67/67 [==============================] - 1s 19ms/step - loss: 0.0981 - accuracy: 0.9650 - val_loss: 0.2590 - val_accuracy: 0.9199\n",
      "Epoch 30/30\n",
      "67/67 [==============================] - 1s 18ms/step - loss: 0.1060 - accuracy: 0.9603 - val_loss: 0.2688 - val_accuracy: 0.9199\n"
     ]
    }
   ],
   "source": [
    "model.compile(optimizer='adam',\n",
    "              loss='sparse_categorical_crossentropy',\n",
    "              metrics=['accuracy'])\n",
    "\n",
    "epochs = 30\n",
    "batch_size = 32\n",
    "\n",
    "history0 = model.fit(train_generator,\n",
    "          steps_per_epoch=train_generator.n // train_generator.batch_size,\n",
    "          validation_data=valid_generator,\n",
    "          validation_steps=valid_generator.n // valid_generator.batch_size,\n",
    "          epochs=epochs,\n",
    "          verbose=1)"
   ]
  },
  {
   "cell_type": "code",
   "execution_count": 75,
   "metadata": {},
   "outputs": [
    {
     "data": {
      "text/plain": [
       "{'loss': [1.2366605997085571,\n",
       "  0.7280990481376648,\n",
       "  0.5839028358459473,\n",
       "  0.48270806670188904,\n",
       "  0.4425654411315918,\n",
       "  0.3986310064792633,\n",
       "  0.3547291159629822,\n",
       "  0.32232266664505005,\n",
       "  0.30441367626190186,\n",
       "  0.2860891819000244,\n",
       "  0.25907617807388306,\n",
       "  0.2553691864013672,\n",
       "  0.24190562963485718,\n",
       "  0.22043320536613464,\n",
       "  0.20755092799663544,\n",
       "  0.20732448995113373,\n",
       "  0.1844644993543625,\n",
       "  0.2076805680990219,\n",
       "  0.16516493260860443,\n",
       "  0.1624961942434311,\n",
       "  0.15592096745967865,\n",
       "  0.15159793198108673,\n",
       "  0.14100554585456848,\n",
       "  0.1488524228334427,\n",
       "  0.1272881180047989,\n",
       "  0.11422882974147797,\n",
       "  0.14716525375843048,\n",
       "  0.12965065240859985,\n",
       "  0.09807208180427551,\n",
       "  0.10602185875177383],\n",
       " 'accuracy': [0.5653594732284546,\n",
       "  0.7301587462425232,\n",
       "  0.7903828024864197,\n",
       "  0.8272642493247986,\n",
       "  0.8459383845329285,\n",
       "  0.8492063283920288,\n",
       "  0.8734827041625977,\n",
       "  0.8828197717666626,\n",
       "  0.8940242528915405,\n",
       "  0.8916900157928467,\n",
       "  0.913165271282196,\n",
       "  0.9098972678184509,\n",
       "  0.9084967374801636,\n",
       "  0.920634925365448,\n",
       "  0.924369752407074,\n",
       "  0.9178338050842285,\n",
       "  0.9323062300682068,\n",
       "  0.9183006286621094,\n",
       "  0.9365079402923584,\n",
       "  0.9449113011360168,\n",
       "  0.9388421773910522,\n",
       "  0.9421101808547974,\n",
       "  0.9435107111930847,\n",
       "  0.9421101808547974,\n",
       "  0.9537814855575562,\n",
       "  0.9537814855575562,\n",
       "  0.9500466585159302,\n",
       "  0.9514472484588623,\n",
       "  0.9649859666824341,\n",
       "  0.9603174328804016],\n",
       " 'val_loss': [0.797642707824707,\n",
       "  0.6592967510223389,\n",
       "  0.4912700653076172,\n",
       "  0.4480043649673462,\n",
       "  0.4175313115119934,\n",
       "  0.3277195990085602,\n",
       "  0.3075612187385559,\n",
       "  0.3051076829433441,\n",
       "  0.29412102699279785,\n",
       "  0.2692880630493164,\n",
       "  0.2981596887111664,\n",
       "  0.2827889323234558,\n",
       "  0.2638852000236511,\n",
       "  0.26765137910842896,\n",
       "  0.2348172962665558,\n",
       "  0.22331075370311737,\n",
       "  0.23486797511577606,\n",
       "  0.24313250184059143,\n",
       "  0.22689716517925262,\n",
       "  0.23401744663715363,\n",
       "  0.27125152945518494,\n",
       "  0.2760683298110962,\n",
       "  0.2780325412750244,\n",
       "  0.2658396065235138,\n",
       "  0.25602880120277405,\n",
       "  0.2676929533481598,\n",
       "  0.23611271381378174,\n",
       "  0.2788584232330322,\n",
       "  0.2589535117149353,\n",
       "  0.26880088448524475],\n",
       " 'val_accuracy': [0.65625,\n",
       "  0.787109375,\n",
       "  0.81640625,\n",
       "  0.857421875,\n",
       "  0.84375,\n",
       "  0.8984375,\n",
       "  0.896484375,\n",
       "  0.90625,\n",
       "  0.9140625,\n",
       "  0.900390625,\n",
       "  0.900390625,\n",
       "  0.90625,\n",
       "  0.916015625,\n",
       "  0.91796875,\n",
       "  0.919921875,\n",
       "  0.9296875,\n",
       "  0.92578125,\n",
       "  0.916015625,\n",
       "  0.931640625,\n",
       "  0.931640625,\n",
       "  0.9140625,\n",
       "  0.923828125,\n",
       "  0.916015625,\n",
       "  0.916015625,\n",
       "  0.921875,\n",
       "  0.927734375,\n",
       "  0.93359375,\n",
       "  0.919921875,\n",
       "  0.919921875,\n",
       "  0.919921875]}"
      ]
     },
     "execution_count": 75,
     "metadata": {},
     "output_type": "execute_result"
    }
   ],
   "source": [
    "history0.history"
   ]
  },
  {
   "cell_type": "markdown",
   "metadata": {},
   "source": [
    "训练集的准确率："
   ]
  },
  {
   "cell_type": "code",
   "execution_count": 76,
   "metadata": {},
   "outputs": [
    {
     "data": {
      "text/plain": [
       "0.9603174328804016"
      ]
     },
     "execution_count": 76,
     "metadata": {},
     "output_type": "execute_result"
    }
   ],
   "source": [
    "history0.history['accuracy'][-1]"
   ]
  },
  {
   "cell_type": "markdown",
   "metadata": {},
   "source": [
    "验证集的准确率："
   ]
  },
  {
   "cell_type": "code",
   "execution_count": 77,
   "metadata": {},
   "outputs": [
    {
     "data": {
      "text/plain": [
       "0.919921875"
      ]
     },
     "execution_count": 77,
     "metadata": {},
     "output_type": "execute_result"
    }
   ],
   "source": [
    "history0.history['val_accuracy'][-1]"
   ]
  },
  {
   "cell_type": "markdown",
   "metadata": {},
   "source": [
    "然后在测试集上评估："
   ]
  },
  {
   "cell_type": "code",
   "execution_count": 78,
   "metadata": {},
   "outputs": [
    {
     "name": "stdout",
     "output_type": "stream",
     "text": [
      "21/21 [==============================] - 0s 14ms/step - loss: 0.3123 - accuracy: 0.9271\n"
     ]
    },
    {
     "data": {
      "text/plain": [
       "0.9270833134651184"
      ]
     },
     "execution_count": 78,
     "metadata": {},
     "output_type": "execute_result"
    }
   ],
   "source": [
    "loss, test_acc = model.evaluate(test_generator, steps=test_generator.n // test_generator.batch_size)\n",
    "test_acc"
   ]
  },
  {
   "cell_type": "markdown",
   "metadata": {},
   "source": [
    "定义函数来评估不同结构的模型对应的结果："
   ]
  },
  {
   "cell_type": "code",
   "execution_count": 79,
   "metadata": {},
   "outputs": [],
   "source": [
    "def train_model(model):\n",
    "    model.compile(optimizer='adam',\n",
    "                  loss='sparse_categorical_crossentropy',\n",
    "                  metrics=['accuracy'])\n",
    "\n",
    "    epochs = 100\n",
    "    batch_size = 32\n",
    "\n",
    "    history = model.fit(train_generator,\n",
    "              steps_per_epoch=train_generator.n // train_generator.batch_size,\n",
    "              validation_data=valid_generator,\n",
    "              validation_steps=valid_generator.n // valid_generator.batch_size,\n",
    "              epochs=epochs,\n",
    "              verbose=1)\n",
    "    train_acc = history.history['accuracy'][-1]\n",
    "    val_acc = history.history['val_accuracy'][-1]\n",
    "    loss, test_acc = model.evaluate(test_generator, steps=test_generator.n // test_generator.batch_size)\n",
    "    return train_acc, val_acc, test_acc, history, model"
   ]
  },
  {
   "cell_type": "markdown",
   "metadata": {},
   "source": [
    "评估不同卷积核大小对应的模型的表现："
   ]
  },
  {
   "cell_type": "code",
   "execution_count": 80,
   "metadata": {},
   "outputs": [],
   "source": [
    "model_types = [\"2-4\", \"4-8\", \"8-16\", \"16-32\", \"32-64\", \"64-128\"]"
   ]
  },
  {
   "cell_type": "code",
   "execution_count": 81,
   "metadata": {},
   "outputs": [],
   "source": [
    "train_acc_list = []\n",
    "val_acc_list = []\n",
    "test_acc_list = []\n",
    "history_list = []\n",
    "model_list = []"
   ]
  },
  {
   "cell_type": "code",
   "execution_count": 82,
   "metadata": {},
   "outputs": [
    {
     "name": "stdout",
     "output_type": "stream",
     "text": [
      "Epoch 1/100\n",
      "67/67 [==============================] - 1s 21ms/step - loss: 1.3658 - accuracy: 0.5700 - val_loss: 1.1622 - val_accuracy: 0.5742\n",
      "Epoch 2/100\n",
      "67/67 [==============================] - 1s 19ms/step - loss: 0.9190 - accuracy: 0.6485 - val_loss: 0.8137 - val_accuracy: 0.7129\n",
      "Epoch 3/100\n",
      "67/67 [==============================] - 1s 18ms/step - loss: 0.7765 - accuracy: 0.7092 - val_loss: 0.6838 - val_accuracy: 0.7656\n",
      "Epoch 4/100\n",
      "67/67 [==============================] - 1s 18ms/step - loss: 0.7168 - accuracy: 0.7358 - val_loss: 0.6681 - val_accuracy: 0.7617\n",
      "Epoch 5/100\n",
      "67/67 [==============================] - 1s 18ms/step - loss: 0.6406 - accuracy: 0.7619 - val_loss: 0.5884 - val_accuracy: 0.8047\n",
      "Epoch 6/100\n",
      "67/67 [==============================] - 1s 18ms/step - loss: 0.6134 - accuracy: 0.7680 - val_loss: 0.5407 - val_accuracy: 0.8223\n",
      "Epoch 7/100\n",
      "67/67 [==============================] - 1s 18ms/step - loss: 0.5420 - accuracy: 0.7969 - val_loss: 0.5027 - val_accuracy: 0.8340\n",
      "Epoch 8/100\n",
      "67/67 [==============================] - 1s 19ms/step - loss: 0.5107 - accuracy: 0.8133 - val_loss: 0.4681 - val_accuracy: 0.8477\n",
      "Epoch 9/100\n",
      "67/67 [==============================] - 1s 19ms/step - loss: 0.4644 - accuracy: 0.8301 - val_loss: 0.4512 - val_accuracy: 0.8359\n",
      "Epoch 10/100\n",
      "67/67 [==============================] - 1s 19ms/step - loss: 0.4427 - accuracy: 0.8357 - val_loss: 0.4483 - val_accuracy: 0.8301\n",
      "Epoch 11/100\n",
      "67/67 [==============================] - 1s 20ms/step - loss: 0.4138 - accuracy: 0.8385 - val_loss: 0.4111 - val_accuracy: 0.8594\n",
      "Epoch 12/100\n",
      "67/67 [==============================] - 1s 18ms/step - loss: 0.3930 - accuracy: 0.8492 - val_loss: 0.4119 - val_accuracy: 0.8613\n",
      "Epoch 13/100\n",
      "67/67 [==============================] - 1s 18ms/step - loss: 0.3707 - accuracy: 0.8576 - val_loss: 0.3908 - val_accuracy: 0.8613\n",
      "Epoch 14/100\n",
      "67/67 [==============================] - 1s 18ms/step - loss: 0.3551 - accuracy: 0.8683 - val_loss: 0.3963 - val_accuracy: 0.8574\n",
      "Epoch 15/100\n",
      "67/67 [==============================] - 1s 18ms/step - loss: 0.3384 - accuracy: 0.8759 - val_loss: 0.4115 - val_accuracy: 0.8672\n",
      "Epoch 16/100\n",
      "67/67 [==============================] - 1s 18ms/step - loss: 0.3184 - accuracy: 0.8819 - val_loss: 0.3861 - val_accuracy: 0.8770\n",
      "Epoch 17/100\n",
      "67/67 [==============================] - 1s 18ms/step - loss: 0.3394 - accuracy: 0.8711 - val_loss: 0.4046 - val_accuracy: 0.8633\n",
      "Epoch 18/100\n",
      "67/67 [==============================] - 1s 18ms/step - loss: 0.3089 - accuracy: 0.8768 - val_loss: 0.3995 - val_accuracy: 0.8594\n",
      "Epoch 19/100\n",
      "67/67 [==============================] - 1s 18ms/step - loss: 0.3166 - accuracy: 0.8825 - val_loss: 0.3820 - val_accuracy: 0.8496\n",
      "Epoch 20/100\n",
      "67/67 [==============================] - 1s 18ms/step - loss: 0.3020 - accuracy: 0.8912 - val_loss: 0.4024 - val_accuracy: 0.8633\n",
      "Epoch 21/100\n",
      "67/67 [==============================] - 1s 18ms/step - loss: 0.2839 - accuracy: 0.8950 - val_loss: 0.3754 - val_accuracy: 0.8574\n",
      "Epoch 22/100\n",
      "67/67 [==============================] - 1s 18ms/step - loss: 0.2716 - accuracy: 0.8973 - val_loss: 0.4255 - val_accuracy: 0.8613\n",
      "Epoch 23/100\n",
      "67/67 [==============================] - 1s 18ms/step - loss: 0.2560 - accuracy: 0.9090 - val_loss: 0.3890 - val_accuracy: 0.8613\n",
      "Epoch 24/100\n",
      "67/67 [==============================] - 1s 18ms/step - loss: 0.2568 - accuracy: 0.9071 - val_loss: 0.3817 - val_accuracy: 0.8574\n",
      "Epoch 25/100\n",
      "67/67 [==============================] - 1s 18ms/step - loss: 0.2449 - accuracy: 0.9080 - val_loss: 0.4018 - val_accuracy: 0.8496\n",
      "Epoch 26/100\n",
      "67/67 [==============================] - 1s 18ms/step - loss: 0.2508 - accuracy: 0.9048 - val_loss: 0.3926 - val_accuracy: 0.8652\n",
      "Epoch 27/100\n",
      "67/67 [==============================] - 1s 18ms/step - loss: 0.2319 - accuracy: 0.9127 - val_loss: 0.3890 - val_accuracy: 0.8574\n",
      "Epoch 28/100\n",
      "67/67 [==============================] - 1s 18ms/step - loss: 0.2343 - accuracy: 0.9066 - val_loss: 0.3957 - val_accuracy: 0.8633\n",
      "Epoch 29/100\n",
      "67/67 [==============================] - 1s 18ms/step - loss: 0.2284 - accuracy: 0.9150 - val_loss: 0.3993 - val_accuracy: 0.8789\n",
      "Epoch 30/100\n",
      "67/67 [==============================] - 1s 18ms/step - loss: 0.2009 - accuracy: 0.9267 - val_loss: 0.3993 - val_accuracy: 0.8789\n",
      "Epoch 31/100\n",
      "67/67 [==============================] - 1s 18ms/step - loss: 0.2145 - accuracy: 0.9188 - val_loss: 0.3976 - val_accuracy: 0.8809\n",
      "Epoch 32/100\n",
      "67/67 [==============================] - 1s 18ms/step - loss: 0.2032 - accuracy: 0.9178 - val_loss: 0.4113 - val_accuracy: 0.8594\n",
      "Epoch 33/100\n",
      "67/67 [==============================] - 1s 18ms/step - loss: 0.2064 - accuracy: 0.9183 - val_loss: 0.4440 - val_accuracy: 0.8691\n",
      "Epoch 34/100\n",
      "67/67 [==============================] - 1s 19ms/step - loss: 0.2181 - accuracy: 0.9206 - val_loss: 0.3971 - val_accuracy: 0.8848\n",
      "Epoch 35/100\n",
      "67/67 [==============================] - 1s 18ms/step - loss: 0.1803 - accuracy: 0.9295 - val_loss: 0.3995 - val_accuracy: 0.8613\n",
      "Epoch 36/100\n",
      "67/67 [==============================] - 1s 18ms/step - loss: 0.1936 - accuracy: 0.9262 - val_loss: 0.4168 - val_accuracy: 0.8770\n",
      "Epoch 37/100\n",
      "67/67 [==============================] - 1s 18ms/step - loss: 0.1783 - accuracy: 0.9384 - val_loss: 0.3911 - val_accuracy: 0.8730\n",
      "Epoch 38/100\n",
      "67/67 [==============================] - 1s 18ms/step - loss: 0.1810 - accuracy: 0.9309 - val_loss: 0.3797 - val_accuracy: 0.8809\n",
      "Epoch 39/100\n",
      "67/67 [==============================] - 1s 18ms/step - loss: 0.1809 - accuracy: 0.9337 - val_loss: 0.3766 - val_accuracy: 0.8770\n",
      "Epoch 40/100\n",
      "67/67 [==============================] - 1s 18ms/step - loss: 0.1757 - accuracy: 0.9342 - val_loss: 0.4197 - val_accuracy: 0.8633\n",
      "Epoch 41/100\n",
      "67/67 [==============================] - 1s 18ms/step - loss: 0.1824 - accuracy: 0.9318 - val_loss: 0.4026 - val_accuracy: 0.8652\n",
      "Epoch 42/100\n",
      "67/67 [==============================] - 1s 18ms/step - loss: 0.1568 - accuracy: 0.9472 - val_loss: 0.4324 - val_accuracy: 0.8750\n",
      "Epoch 43/100\n",
      "67/67 [==============================] - 1s 18ms/step - loss: 0.1740 - accuracy: 0.9402 - val_loss: 0.4339 - val_accuracy: 0.8652\n",
      "Epoch 44/100\n",
      "67/67 [==============================] - 1s 18ms/step - loss: 0.1539 - accuracy: 0.9482 - val_loss: 0.4019 - val_accuracy: 0.8711\n",
      "Epoch 45/100\n",
      "67/67 [==============================] - 1s 19ms/step - loss: 0.1599 - accuracy: 0.9416 - val_loss: 0.4456 - val_accuracy: 0.8594\n",
      "Epoch 46/100\n",
      "67/67 [==============================] - 1s 18ms/step - loss: 0.1480 - accuracy: 0.9454 - val_loss: 0.4110 - val_accuracy: 0.8730\n",
      "Epoch 47/100\n",
      "67/67 [==============================] - 1s 18ms/step - loss: 0.1507 - accuracy: 0.9482 - val_loss: 0.4370 - val_accuracy: 0.8691\n",
      "Epoch 48/100\n",
      "67/67 [==============================] - 1s 19ms/step - loss: 0.1383 - accuracy: 0.9524 - val_loss: 0.4176 - val_accuracy: 0.8789\n",
      "Epoch 49/100\n",
      "67/67 [==============================] - 1s 19ms/step - loss: 0.1638 - accuracy: 0.9402 - val_loss: 0.4108 - val_accuracy: 0.8672\n",
      "Epoch 50/100\n",
      "67/67 [==============================] - 1s 18ms/step - loss: 0.1650 - accuracy: 0.9388 - val_loss: 0.3902 - val_accuracy: 0.8750\n",
      "Epoch 51/100\n",
      "67/67 [==============================] - 1s 18ms/step - loss: 0.1409 - accuracy: 0.9510 - val_loss: 0.4363 - val_accuracy: 0.8652\n",
      "Epoch 52/100\n",
      "67/67 [==============================] - 1s 18ms/step - loss: 0.1671 - accuracy: 0.9426 - val_loss: 0.4018 - val_accuracy: 0.8789\n",
      "Epoch 53/100\n",
      "67/67 [==============================] - 1s 18ms/step - loss: 0.1469 - accuracy: 0.9444 - val_loss: 0.4222 - val_accuracy: 0.8828\n",
      "Epoch 54/100\n",
      "67/67 [==============================] - 1s 18ms/step - loss: 0.1293 - accuracy: 0.9575 - val_loss: 0.4132 - val_accuracy: 0.8633\n",
      "Epoch 55/100\n",
      "67/67 [==============================] - 1s 19ms/step - loss: 0.1529 - accuracy: 0.9519 - val_loss: 0.4179 - val_accuracy: 0.8750\n",
      "Epoch 56/100\n",
      "67/67 [==============================] - 1s 18ms/step - loss: 0.1315 - accuracy: 0.9468 - val_loss: 0.4186 - val_accuracy: 0.8711\n",
      "Epoch 57/100\n",
      "67/67 [==============================] - 1s 18ms/step - loss: 0.1248 - accuracy: 0.9552 - val_loss: 0.4657 - val_accuracy: 0.8730\n",
      "Epoch 58/100\n",
      "67/67 [==============================] - 1s 18ms/step - loss: 0.1382 - accuracy: 0.9496 - val_loss: 0.4057 - val_accuracy: 0.8770\n",
      "Epoch 59/100\n",
      "67/67 [==============================] - 1s 19ms/step - loss: 0.1340 - accuracy: 0.9575 - val_loss: 0.4113 - val_accuracy: 0.8848\n",
      "Epoch 60/100\n",
      "67/67 [==============================] - 1s 18ms/step - loss: 0.1271 - accuracy: 0.9552 - val_loss: 0.4387 - val_accuracy: 0.8633\n",
      "Epoch 61/100\n",
      "67/67 [==============================] - 1s 18ms/step - loss: 0.1271 - accuracy: 0.9486 - val_loss: 0.4311 - val_accuracy: 0.8750\n",
      "Epoch 62/100\n",
      "67/67 [==============================] - 1s 18ms/step - loss: 0.1136 - accuracy: 0.9622 - val_loss: 0.3806 - val_accuracy: 0.8809\n",
      "Epoch 63/100\n",
      "67/67 [==============================] - 1s 18ms/step - loss: 0.1275 - accuracy: 0.9524 - val_loss: 0.4295 - val_accuracy: 0.8867\n",
      "Epoch 64/100\n",
      "67/67 [==============================] - 1s 18ms/step - loss: 0.1188 - accuracy: 0.9528 - val_loss: 0.4268 - val_accuracy: 0.8828\n",
      "Epoch 65/100\n",
      "67/67 [==============================] - 1s 18ms/step - loss: 0.1189 - accuracy: 0.9589 - val_loss: 0.4291 - val_accuracy: 0.8770\n",
      "Epoch 66/100\n",
      "67/67 [==============================] - 1s 18ms/step - loss: 0.1062 - accuracy: 0.9645 - val_loss: 0.4683 - val_accuracy: 0.8730\n",
      "Epoch 67/100\n",
      "67/67 [==============================] - 1s 18ms/step - loss: 0.1048 - accuracy: 0.9636 - val_loss: 0.3935 - val_accuracy: 0.8789\n",
      "Epoch 68/100\n",
      "67/67 [==============================] - 1s 18ms/step - loss: 0.0938 - accuracy: 0.9613 - val_loss: 0.4604 - val_accuracy: 0.8672\n",
      "Epoch 69/100\n",
      "67/67 [==============================] - 1s 18ms/step - loss: 0.1184 - accuracy: 0.9585 - val_loss: 0.4127 - val_accuracy: 0.8789\n",
      "Epoch 70/100\n",
      "67/67 [==============================] - 1s 18ms/step - loss: 0.1016 - accuracy: 0.9659 - val_loss: 0.4293 - val_accuracy: 0.8770\n",
      "Epoch 71/100\n",
      "67/67 [==============================] - 1s 19ms/step - loss: 0.1298 - accuracy: 0.9552 - val_loss: 0.4588 - val_accuracy: 0.8555\n",
      "Epoch 72/100\n",
      "67/67 [==============================] - 1s 19ms/step - loss: 0.1212 - accuracy: 0.9552 - val_loss: 0.3975 - val_accuracy: 0.8750\n",
      "Epoch 73/100\n",
      "67/67 [==============================] - 1s 18ms/step - loss: 0.0958 - accuracy: 0.9650 - val_loss: 0.4188 - val_accuracy: 0.8750\n",
      "Epoch 74/100\n",
      "67/67 [==============================] - 1s 18ms/step - loss: 0.0995 - accuracy: 0.9650 - val_loss: 0.4368 - val_accuracy: 0.8770\n",
      "Epoch 75/100\n",
      "67/67 [==============================] - 1s 18ms/step - loss: 0.1006 - accuracy: 0.9617 - val_loss: 0.4418 - val_accuracy: 0.8750\n",
      "Epoch 76/100\n",
      "67/67 [==============================] - 1s 18ms/step - loss: 0.1070 - accuracy: 0.9622 - val_loss: 0.4685 - val_accuracy: 0.8730\n",
      "Epoch 77/100\n",
      "67/67 [==============================] - 1s 18ms/step - loss: 0.0982 - accuracy: 0.9678 - val_loss: 0.3852 - val_accuracy: 0.8789\n",
      "Epoch 78/100\n",
      "67/67 [==============================] - 1s 18ms/step - loss: 0.1197 - accuracy: 0.9556 - val_loss: 0.4268 - val_accuracy: 0.8789\n",
      "Epoch 79/100\n",
      "67/67 [==============================] - 1s 18ms/step - loss: 0.0918 - accuracy: 0.9720 - val_loss: 0.4207 - val_accuracy: 0.8672\n",
      "Epoch 80/100\n",
      "67/67 [==============================] - 1s 18ms/step - loss: 0.0941 - accuracy: 0.9664 - val_loss: 0.4692 - val_accuracy: 0.8691\n",
      "Epoch 81/100\n",
      "67/67 [==============================] - 1s 19ms/step - loss: 0.0779 - accuracy: 0.9715 - val_loss: 0.4674 - val_accuracy: 0.8848\n",
      "Epoch 82/100\n",
      "67/67 [==============================] - 1s 18ms/step - loss: 0.1046 - accuracy: 0.9641 - val_loss: 0.4542 - val_accuracy: 0.8711\n",
      "Epoch 83/100\n",
      "67/67 [==============================] - 1s 18ms/step - loss: 0.0835 - accuracy: 0.9678 - val_loss: 0.4285 - val_accuracy: 0.8926\n",
      "Epoch 84/100\n",
      "67/67 [==============================] - 1s 18ms/step - loss: 0.0835 - accuracy: 0.9683 - val_loss: 0.5046 - val_accuracy: 0.8809\n",
      "Epoch 85/100\n",
      "67/67 [==============================] - 1s 18ms/step - loss: 0.0828 - accuracy: 0.9748 - val_loss: 0.4788 - val_accuracy: 0.8730\n",
      "Epoch 86/100\n",
      "67/67 [==============================] - 1s 18ms/step - loss: 0.0814 - accuracy: 0.9729 - val_loss: 0.4774 - val_accuracy: 0.8848\n",
      "Epoch 87/100\n",
      "67/67 [==============================] - 1s 18ms/step - loss: 0.0803 - accuracy: 0.9706 - val_loss: 0.4567 - val_accuracy: 0.8848\n",
      "Epoch 88/100\n",
      "67/67 [==============================] - 1s 19ms/step - loss: 0.0870 - accuracy: 0.9720 - val_loss: 0.4664 - val_accuracy: 0.8711\n",
      "Epoch 89/100\n",
      "67/67 [==============================] - 1s 18ms/step - loss: 0.0966 - accuracy: 0.9673 - val_loss: 0.4828 - val_accuracy: 0.8672\n",
      "Epoch 90/100\n",
      "67/67 [==============================] - 1s 18ms/step - loss: 0.0864 - accuracy: 0.9697 - val_loss: 0.4674 - val_accuracy: 0.8770\n",
      "Epoch 91/100\n",
      "67/67 [==============================] - 1s 18ms/step - loss: 0.1015 - accuracy: 0.9650 - val_loss: 0.5128 - val_accuracy: 0.8652\n",
      "Epoch 92/100\n",
      "67/67 [==============================] - 1s 18ms/step - loss: 0.0901 - accuracy: 0.9669 - val_loss: 0.4795 - val_accuracy: 0.8770\n",
      "Epoch 93/100\n",
      "67/67 [==============================] - 1s 18ms/step - loss: 0.0788 - accuracy: 0.9753 - val_loss: 0.4610 - val_accuracy: 0.8633\n",
      "Epoch 94/100\n",
      "67/67 [==============================] - 1s 18ms/step - loss: 0.0824 - accuracy: 0.9720 - val_loss: 0.4760 - val_accuracy: 0.8809\n",
      "Epoch 95/100\n",
      "67/67 [==============================] - 1s 18ms/step - loss: 0.0836 - accuracy: 0.9748 - val_loss: 0.5405 - val_accuracy: 0.8750\n",
      "Epoch 96/100\n",
      "67/67 [==============================] - 1s 18ms/step - loss: 0.0767 - accuracy: 0.9725 - val_loss: 0.4618 - val_accuracy: 0.8770\n",
      "Epoch 97/100\n",
      "67/67 [==============================] - 1s 19ms/step - loss: 0.0835 - accuracy: 0.9692 - val_loss: 0.4966 - val_accuracy: 0.8848\n",
      "Epoch 98/100\n",
      "67/67 [==============================] - 1s 18ms/step - loss: 0.0955 - accuracy: 0.9697 - val_loss: 0.4698 - val_accuracy: 0.8770\n",
      "Epoch 99/100\n",
      "67/67 [==============================] - 1s 18ms/step - loss: 0.0609 - accuracy: 0.9823 - val_loss: 0.4282 - val_accuracy: 0.8906\n",
      "Epoch 100/100\n",
      "67/67 [==============================] - 1s 18ms/step - loss: 0.0765 - accuracy: 0.9729 - val_loss: 0.4906 - val_accuracy: 0.8848\n",
      "21/21 [==============================] - 0s 14ms/step - loss: 0.4551 - accuracy: 0.8824\n",
      "Epoch 1/100\n",
      "67/67 [==============================] - 1s 20ms/step - loss: 1.1835 - accuracy: 0.5756 - val_loss: 0.8635 - val_accuracy: 0.6543\n",
      "Epoch 2/100\n",
      "67/67 [==============================] - 1s 18ms/step - loss: 0.7696 - accuracy: 0.6975 - val_loss: 0.6621 - val_accuracy: 0.7578\n",
      "Epoch 3/100\n",
      "67/67 [==============================] - 1s 18ms/step - loss: 0.6440 - accuracy: 0.7474 - val_loss: 0.5744 - val_accuracy: 0.8027\n",
      "Epoch 4/100\n",
      "67/67 [==============================] - 1s 18ms/step - loss: 0.5960 - accuracy: 0.7796 - val_loss: 0.5434 - val_accuracy: 0.8066\n",
      "Epoch 5/100\n",
      "67/67 [==============================] - 1s 18ms/step - loss: 0.5487 - accuracy: 0.7941 - val_loss: 0.5040 - val_accuracy: 0.8398\n",
      "Epoch 6/100\n",
      "67/67 [==============================] - 1s 18ms/step - loss: 0.5058 - accuracy: 0.8170 - val_loss: 0.4763 - val_accuracy: 0.8418\n",
      "Epoch 7/100\n",
      "67/67 [==============================] - 1s 18ms/step - loss: 0.4861 - accuracy: 0.8259 - val_loss: 0.4584 - val_accuracy: 0.8477\n",
      "Epoch 8/100\n",
      "67/67 [==============================] - 1s 18ms/step - loss: 0.4572 - accuracy: 0.8343 - val_loss: 0.4267 - val_accuracy: 0.8594\n",
      "Epoch 9/100\n",
      "67/67 [==============================] - 1s 18ms/step - loss: 0.4441 - accuracy: 0.8380 - val_loss: 0.4504 - val_accuracy: 0.8652\n",
      "Epoch 10/100\n",
      "67/67 [==============================] - 1s 18ms/step - loss: 0.4289 - accuracy: 0.8469 - val_loss: 0.4116 - val_accuracy: 0.8652\n",
      "Epoch 11/100\n",
      "67/67 [==============================] - 1s 18ms/step - loss: 0.4051 - accuracy: 0.8632 - val_loss: 0.3769 - val_accuracy: 0.8926\n",
      "Epoch 12/100\n",
      "67/67 [==============================] - 1s 18ms/step - loss: 0.3797 - accuracy: 0.8721 - val_loss: 0.3745 - val_accuracy: 0.8848\n",
      "Epoch 13/100\n",
      "67/67 [==============================] - 1s 18ms/step - loss: 0.3791 - accuracy: 0.8660 - val_loss: 0.3462 - val_accuracy: 0.8965\n",
      "Epoch 14/100\n",
      "67/67 [==============================] - 1s 19ms/step - loss: 0.3819 - accuracy: 0.8609 - val_loss: 0.3418 - val_accuracy: 0.8828\n"
     ]
    },
    {
     "name": "stdout",
     "output_type": "stream",
     "text": [
      "Epoch 15/100\n",
      "67/67 [==============================] - 1s 18ms/step - loss: 0.3490 - accuracy: 0.8777 - val_loss: 0.3742 - val_accuracy: 0.8945\n",
      "Epoch 16/100\n",
      "67/67 [==============================] - 1s 18ms/step - loss: 0.3441 - accuracy: 0.8800 - val_loss: 0.3309 - val_accuracy: 0.9023\n",
      "Epoch 17/100\n",
      "67/67 [==============================] - 1s 18ms/step - loss: 0.3441 - accuracy: 0.8772 - val_loss: 0.3484 - val_accuracy: 0.8848\n",
      "Epoch 18/100\n",
      "67/67 [==============================] - 1s 18ms/step - loss: 0.3241 - accuracy: 0.8866 - val_loss: 0.3282 - val_accuracy: 0.8887\n",
      "Epoch 19/100\n",
      "67/67 [==============================] - 1s 18ms/step - loss: 0.3137 - accuracy: 0.8875 - val_loss: 0.3431 - val_accuracy: 0.8867\n",
      "Epoch 20/100\n",
      "67/67 [==============================] - 1s 18ms/step - loss: 0.3054 - accuracy: 0.8922 - val_loss: 0.3126 - val_accuracy: 0.9004\n",
      "Epoch 21/100\n",
      "67/67 [==============================] - 1s 18ms/step - loss: 0.2949 - accuracy: 0.8940 - val_loss: 0.2887 - val_accuracy: 0.9082\n",
      "Epoch 22/100\n",
      "67/67 [==============================] - 1s 18ms/step - loss: 0.2934 - accuracy: 0.8903 - val_loss: 0.3231 - val_accuracy: 0.8867\n",
      "Epoch 23/100\n",
      "67/67 [==============================] - 1s 18ms/step - loss: 0.2909 - accuracy: 0.8973 - val_loss: 0.3371 - val_accuracy: 0.8887\n",
      "Epoch 24/100\n",
      "67/67 [==============================] - 1s 18ms/step - loss: 0.2776 - accuracy: 0.8982 - val_loss: 0.2929 - val_accuracy: 0.9043\n",
      "Epoch 25/100\n",
      "67/67 [==============================] - 1s 19ms/step - loss: 0.2889 - accuracy: 0.8940 - val_loss: 0.2905 - val_accuracy: 0.9043\n",
      "Epoch 26/100\n",
      "67/67 [==============================] - 1s 18ms/step - loss: 0.2762 - accuracy: 0.8959 - val_loss: 0.3016 - val_accuracy: 0.9004\n",
      "Epoch 27/100\n",
      "67/67 [==============================] - 1s 18ms/step - loss: 0.2665 - accuracy: 0.8954 - val_loss: 0.2774 - val_accuracy: 0.9082\n",
      "Epoch 28/100\n",
      "67/67 [==============================] - 1s 18ms/step - loss: 0.2638 - accuracy: 0.8973 - val_loss: 0.2861 - val_accuracy: 0.9004\n",
      "Epoch 29/100\n",
      "67/67 [==============================] - 1s 18ms/step - loss: 0.2396 - accuracy: 0.9085 - val_loss: 0.2847 - val_accuracy: 0.9082\n",
      "Epoch 30/100\n",
      "67/67 [==============================] - 1s 18ms/step - loss: 0.2532 - accuracy: 0.9052 - val_loss: 0.2764 - val_accuracy: 0.9062\n",
      "Epoch 31/100\n",
      "67/67 [==============================] - 1s 18ms/step - loss: 0.2346 - accuracy: 0.9136 - val_loss: 0.2904 - val_accuracy: 0.9062\n",
      "Epoch 32/100\n",
      "67/67 [==============================] - 1s 18ms/step - loss: 0.2460 - accuracy: 0.9104 - val_loss: 0.2692 - val_accuracy: 0.9043\n",
      "Epoch 33/100\n",
      "67/67 [==============================] - 1s 18ms/step - loss: 0.2440 - accuracy: 0.9104 - val_loss: 0.2680 - val_accuracy: 0.9062\n",
      "Epoch 34/100\n",
      "67/67 [==============================] - 1s 18ms/step - loss: 0.2344 - accuracy: 0.9080 - val_loss: 0.2925 - val_accuracy: 0.8984\n",
      "Epoch 35/100\n",
      "67/67 [==============================] - 1s 18ms/step - loss: 0.2166 - accuracy: 0.9174 - val_loss: 0.2401 - val_accuracy: 0.9102\n",
      "Epoch 36/100\n",
      "67/67 [==============================] - 1s 18ms/step - loss: 0.2220 - accuracy: 0.9155 - val_loss: 0.2866 - val_accuracy: 0.9102\n",
      "Epoch 37/100\n",
      "67/67 [==============================] - 1s 18ms/step - loss: 0.2212 - accuracy: 0.9230 - val_loss: 0.3200 - val_accuracy: 0.8945\n",
      "Epoch 38/100\n",
      "67/67 [==============================] - 1s 18ms/step - loss: 0.2190 - accuracy: 0.9141 - val_loss: 0.2600 - val_accuracy: 0.9082\n",
      "Epoch 39/100\n",
      "67/67 [==============================] - 1s 18ms/step - loss: 0.2021 - accuracy: 0.9178 - val_loss: 0.2631 - val_accuracy: 0.9102\n",
      "Epoch 40/100\n",
      "67/67 [==============================] - 1s 18ms/step - loss: 0.2105 - accuracy: 0.9202 - val_loss: 0.3192 - val_accuracy: 0.8926\n",
      "Epoch 41/100\n",
      "67/67 [==============================] - 1s 18ms/step - loss: 0.2023 - accuracy: 0.9258 - val_loss: 0.2828 - val_accuracy: 0.9062\n",
      "Epoch 42/100\n",
      "67/67 [==============================] - 1s 18ms/step - loss: 0.2010 - accuracy: 0.9216 - val_loss: 0.2493 - val_accuracy: 0.9102\n",
      "Epoch 43/100\n",
      "67/67 [==============================] - 1s 18ms/step - loss: 0.1950 - accuracy: 0.9220 - val_loss: 0.2407 - val_accuracy: 0.9062\n",
      "Epoch 44/100\n",
      "67/67 [==============================] - 1s 18ms/step - loss: 0.2125 - accuracy: 0.9188 - val_loss: 0.2977 - val_accuracy: 0.9062\n",
      "Epoch 45/100\n",
      "67/67 [==============================] - 1s 18ms/step - loss: 0.1866 - accuracy: 0.9248 - val_loss: 0.2682 - val_accuracy: 0.9082\n",
      "Epoch 46/100\n",
      "67/67 [==============================] - 1s 18ms/step - loss: 0.1885 - accuracy: 0.9286 - val_loss: 0.3116 - val_accuracy: 0.8965\n",
      "Epoch 47/100\n",
      "67/67 [==============================] - 1s 18ms/step - loss: 0.1839 - accuracy: 0.9304 - val_loss: 0.2888 - val_accuracy: 0.8984\n",
      "Epoch 48/100\n",
      "67/67 [==============================] - 1s 18ms/step - loss: 0.1917 - accuracy: 0.9323 - val_loss: 0.3252 - val_accuracy: 0.8965\n",
      "Epoch 49/100\n",
      "67/67 [==============================] - 1s 18ms/step - loss: 0.2027 - accuracy: 0.9220 - val_loss: 0.2978 - val_accuracy: 0.9023\n",
      "Epoch 50/100\n",
      "67/67 [==============================] - 1s 18ms/step - loss: 0.1754 - accuracy: 0.9295 - val_loss: 0.2986 - val_accuracy: 0.8984\n",
      "Epoch 51/100\n",
      "67/67 [==============================] - 1s 18ms/step - loss: 0.1699 - accuracy: 0.9346 - val_loss: 0.2923 - val_accuracy: 0.8965\n",
      "Epoch 52/100\n",
      "67/67 [==============================] - 1s 18ms/step - loss: 0.1758 - accuracy: 0.9244 - val_loss: 0.2662 - val_accuracy: 0.9062\n",
      "Epoch 53/100\n",
      "67/67 [==============================] - 1s 18ms/step - loss: 0.1599 - accuracy: 0.9374 - val_loss: 0.2841 - val_accuracy: 0.9023\n",
      "Epoch 54/100\n",
      "67/67 [==============================] - 1s 19ms/step - loss: 0.1694 - accuracy: 0.9328 - val_loss: 0.2712 - val_accuracy: 0.9121\n",
      "Epoch 55/100\n",
      "67/67 [==============================] - 1s 18ms/step - loss: 0.1592 - accuracy: 0.9416 - val_loss: 0.2906 - val_accuracy: 0.9121\n",
      "Epoch 56/100\n",
      "67/67 [==============================] - 1s 18ms/step - loss: 0.1597 - accuracy: 0.9384 - val_loss: 0.2626 - val_accuracy: 0.9082\n",
      "Epoch 57/100\n",
      "67/67 [==============================] - 1s 18ms/step - loss: 0.1726 - accuracy: 0.9351 - val_loss: 0.2789 - val_accuracy: 0.9082\n",
      "Epoch 58/100\n",
      "67/67 [==============================] - 1s 18ms/step - loss: 0.1815 - accuracy: 0.9234 - val_loss: 0.2896 - val_accuracy: 0.9023\n",
      "Epoch 59/100\n",
      "67/67 [==============================] - 1s 18ms/step - loss: 0.1639 - accuracy: 0.9323 - val_loss: 0.3201 - val_accuracy: 0.9023\n",
      "Epoch 60/100\n",
      "67/67 [==============================] - 1s 19ms/step - loss: 0.1638 - accuracy: 0.9379 - val_loss: 0.2864 - val_accuracy: 0.9023\n",
      "Epoch 61/100\n",
      "67/67 [==============================] - 1s 18ms/step - loss: 0.1469 - accuracy: 0.9402 - val_loss: 0.2818 - val_accuracy: 0.9141\n",
      "Epoch 62/100\n",
      "67/67 [==============================] - 1s 18ms/step - loss: 0.1552 - accuracy: 0.9388 - val_loss: 0.2947 - val_accuracy: 0.9004\n",
      "Epoch 63/100\n",
      "67/67 [==============================] - 1s 18ms/step - loss: 0.1365 - accuracy: 0.9412 - val_loss: 0.2951 - val_accuracy: 0.9043\n",
      "Epoch 64/100\n",
      "67/67 [==============================] - 1s 18ms/step - loss: 0.1404 - accuracy: 0.9426 - val_loss: 0.3041 - val_accuracy: 0.9004\n",
      "Epoch 65/100\n",
      "67/67 [==============================] - 1s 18ms/step - loss: 0.1436 - accuracy: 0.9430 - val_loss: 0.2951 - val_accuracy: 0.8984\n",
      "Epoch 66/100\n",
      "67/67 [==============================] - 1s 18ms/step - loss: 0.1270 - accuracy: 0.9458 - val_loss: 0.3276 - val_accuracy: 0.9062\n",
      "Epoch 67/100\n",
      "67/67 [==============================] - 1s 18ms/step - loss: 0.1284 - accuracy: 0.9570 - val_loss: 0.3685 - val_accuracy: 0.9004\n",
      "Epoch 68/100\n",
      "67/67 [==============================] - 1s 18ms/step - loss: 0.1439 - accuracy: 0.9449 - val_loss: 0.3332 - val_accuracy: 0.9004\n",
      "Epoch 69/100\n",
      "67/67 [==============================] - 1s 18ms/step - loss: 0.1370 - accuracy: 0.9500 - val_loss: 0.2775 - val_accuracy: 0.9043\n",
      "Epoch 70/100\n",
      "67/67 [==============================] - 1s 18ms/step - loss: 0.1276 - accuracy: 0.9486 - val_loss: 0.3008 - val_accuracy: 0.9141\n",
      "Epoch 71/100\n",
      "67/67 [==============================] - 1s 18ms/step - loss: 0.1215 - accuracy: 0.9547 - val_loss: 0.3074 - val_accuracy: 0.9141\n",
      "Epoch 72/100\n",
      "67/67 [==============================] - 1s 18ms/step - loss: 0.1359 - accuracy: 0.9585 - val_loss: 0.3259 - val_accuracy: 0.9043\n",
      "Epoch 73/100\n",
      "67/67 [==============================] - 1s 18ms/step - loss: 0.1430 - accuracy: 0.9430 - val_loss: 0.3224 - val_accuracy: 0.8906\n",
      "Epoch 74/100\n",
      "67/67 [==============================] - 1s 18ms/step - loss: 0.1268 - accuracy: 0.9472 - val_loss: 0.2852 - val_accuracy: 0.9043\n",
      "Epoch 75/100\n",
      "67/67 [==============================] - 1s 18ms/step - loss: 0.1441 - accuracy: 0.9458 - val_loss: 0.2876 - val_accuracy: 0.9004\n",
      "Epoch 76/100\n",
      "67/67 [==============================] - 1s 18ms/step - loss: 0.1428 - accuracy: 0.9426 - val_loss: 0.2980 - val_accuracy: 0.9102\n",
      "Epoch 77/100\n",
      "67/67 [==============================] - 1s 18ms/step - loss: 0.1231 - accuracy: 0.9524 - val_loss: 0.2938 - val_accuracy: 0.9102\n",
      "Epoch 78/100\n",
      "67/67 [==============================] - 1s 18ms/step - loss: 0.1288 - accuracy: 0.9500 - val_loss: 0.3311 - val_accuracy: 0.8965\n",
      "Epoch 79/100\n",
      "67/67 [==============================] - 1s 18ms/step - loss: 0.1184 - accuracy: 0.9524 - val_loss: 0.2978 - val_accuracy: 0.9043\n",
      "Epoch 80/100\n",
      "67/67 [==============================] - 1s 18ms/step - loss: 0.1130 - accuracy: 0.9547 - val_loss: 0.2759 - val_accuracy: 0.9199\n",
      "Epoch 81/100\n",
      "67/67 [==============================] - 1s 18ms/step - loss: 0.1108 - accuracy: 0.9570 - val_loss: 0.3164 - val_accuracy: 0.9121\n",
      "Epoch 82/100\n",
      "67/67 [==============================] - 1s 18ms/step - loss: 0.1273 - accuracy: 0.9491 - val_loss: 0.3574 - val_accuracy: 0.8945\n",
      "Epoch 83/100\n",
      "67/67 [==============================] - 1s 18ms/step - loss: 0.1143 - accuracy: 0.9575 - val_loss: 0.4254 - val_accuracy: 0.9023\n",
      "Epoch 84/100\n",
      "67/67 [==============================] - 1s 18ms/step - loss: 0.1319 - accuracy: 0.9491 - val_loss: 0.3536 - val_accuracy: 0.9043\n",
      "Epoch 85/100\n",
      "67/67 [==============================] - 1s 18ms/step - loss: 0.1091 - accuracy: 0.9556 - val_loss: 0.3304 - val_accuracy: 0.9062\n",
      "Epoch 86/100\n",
      "67/67 [==============================] - 1s 18ms/step - loss: 0.1044 - accuracy: 0.9594 - val_loss: 0.3070 - val_accuracy: 0.9219\n",
      "Epoch 87/100\n",
      "67/67 [==============================] - 1s 18ms/step - loss: 0.1066 - accuracy: 0.9566 - val_loss: 0.2872 - val_accuracy: 0.9199\n",
      "Epoch 88/100\n",
      "67/67 [==============================] - 1s 18ms/step - loss: 0.1010 - accuracy: 0.9613 - val_loss: 0.3198 - val_accuracy: 0.9121\n",
      "Epoch 89/100\n",
      "67/67 [==============================] - 1s 18ms/step - loss: 0.1052 - accuracy: 0.9580 - val_loss: 0.2993 - val_accuracy: 0.9043\n",
      "Epoch 90/100\n",
      "67/67 [==============================] - 1s 18ms/step - loss: 0.0975 - accuracy: 0.9622 - val_loss: 0.3363 - val_accuracy: 0.9160\n",
      "Epoch 91/100\n",
      "67/67 [==============================] - 1s 18ms/step - loss: 0.1177 - accuracy: 0.9542 - val_loss: 0.2943 - val_accuracy: 0.9082\n",
      "Epoch 92/100\n",
      "67/67 [==============================] - 1s 18ms/step - loss: 0.1081 - accuracy: 0.9570 - val_loss: 0.3106 - val_accuracy: 0.9141\n",
      "Epoch 93/100\n",
      "67/67 [==============================] - 1s 18ms/step - loss: 0.1069 - accuracy: 0.9585 - val_loss: 0.2914 - val_accuracy: 0.9160\n",
      "Epoch 94/100\n",
      "67/67 [==============================] - 1s 18ms/step - loss: 0.1034 - accuracy: 0.9608 - val_loss: 0.3735 - val_accuracy: 0.9062\n",
      "Epoch 95/100\n",
      "67/67 [==============================] - 1s 18ms/step - loss: 0.1137 - accuracy: 0.9594 - val_loss: 0.3991 - val_accuracy: 0.9062\n",
      "Epoch 96/100\n",
      "67/67 [==============================] - 1s 18ms/step - loss: 0.1001 - accuracy: 0.9608 - val_loss: 0.3077 - val_accuracy: 0.9082\n",
      "Epoch 97/100\n",
      "67/67 [==============================] - 1s 18ms/step - loss: 0.1157 - accuracy: 0.9542 - val_loss: 0.3104 - val_accuracy: 0.9160\n",
      "Epoch 98/100\n",
      "67/67 [==============================] - 1s 18ms/step - loss: 0.1266 - accuracy: 0.9533 - val_loss: 0.3091 - val_accuracy: 0.9004\n",
      "Epoch 99/100\n",
      "67/67 [==============================] - 1s 18ms/step - loss: 0.1146 - accuracy: 0.9580 - val_loss: 0.3867 - val_accuracy: 0.8926\n",
      "Epoch 100/100\n",
      "67/67 [==============================] - 1s 18ms/step - loss: 0.0945 - accuracy: 0.9631 - val_loss: 0.3151 - val_accuracy: 0.9023\n",
      "21/21 [==============================] - 0s 14ms/step - loss: 0.3721 - accuracy: 0.9167\n",
      "Epoch 1/100\n",
      "67/67 [==============================] - 1s 20ms/step - loss: 0.9733 - accuracy: 0.6237 - val_loss: 0.6917 - val_accuracy: 0.7520\n",
      "Epoch 2/100\n",
      "67/67 [==============================] - 1s 18ms/step - loss: 0.6352 - accuracy: 0.7633 - val_loss: 0.4953 - val_accuracy: 0.8379\n",
      "Epoch 3/100\n",
      "67/67 [==============================] - 1s 18ms/step - loss: 0.5539 - accuracy: 0.7988 - val_loss: 0.4585 - val_accuracy: 0.8438\n",
      "Epoch 4/100\n",
      "67/67 [==============================] - 1s 18ms/step - loss: 0.4788 - accuracy: 0.8319 - val_loss: 0.4362 - val_accuracy: 0.8574\n",
      "Epoch 5/100\n",
      "67/67 [==============================] - 1s 18ms/step - loss: 0.4538 - accuracy: 0.8357 - val_loss: 0.3828 - val_accuracy: 0.8730\n",
      "Epoch 6/100\n",
      "67/67 [==============================] - 1s 18ms/step - loss: 0.4060 - accuracy: 0.8548 - val_loss: 0.3632 - val_accuracy: 0.8789\n",
      "Epoch 7/100\n",
      "67/67 [==============================] - 1s 18ms/step - loss: 0.4019 - accuracy: 0.8529 - val_loss: 0.3718 - val_accuracy: 0.8691\n",
      "Epoch 8/100\n",
      "67/67 [==============================] - 1s 18ms/step - loss: 0.3764 - accuracy: 0.8665 - val_loss: 0.3474 - val_accuracy: 0.8789\n",
      "Epoch 9/100\n",
      "67/67 [==============================] - 1s 18ms/step - loss: 0.3474 - accuracy: 0.8739 - val_loss: 0.3482 - val_accuracy: 0.8711\n",
      "Epoch 10/100\n",
      "67/67 [==============================] - 1s 18ms/step - loss: 0.3383 - accuracy: 0.8810 - val_loss: 0.3241 - val_accuracy: 0.9023\n",
      "Epoch 11/100\n",
      "67/67 [==============================] - 1s 18ms/step - loss: 0.3106 - accuracy: 0.8819 - val_loss: 0.3322 - val_accuracy: 0.8867\n",
      "Epoch 12/100\n",
      "67/67 [==============================] - 1s 18ms/step - loss: 0.3219 - accuracy: 0.8783 - val_loss: 0.3118 - val_accuracy: 0.8887\n",
      "Epoch 13/100\n",
      "67/67 [==============================] - 1s 18ms/step - loss: 0.2909 - accuracy: 0.8922 - val_loss: 0.2881 - val_accuracy: 0.8906\n",
      "Epoch 14/100\n",
      "67/67 [==============================] - 1s 18ms/step - loss: 0.2590 - accuracy: 0.8982 - val_loss: 0.2698 - val_accuracy: 0.9023\n",
      "Epoch 15/100\n",
      "67/67 [==============================] - 1s 18ms/step - loss: 0.2540 - accuracy: 0.8992 - val_loss: 0.3115 - val_accuracy: 0.8809\n",
      "Epoch 16/100\n",
      "67/67 [==============================] - 1s 18ms/step - loss: 0.2281 - accuracy: 0.9122 - val_loss: 0.2653 - val_accuracy: 0.8926\n",
      "Epoch 17/100\n",
      "67/67 [==============================] - 1s 18ms/step - loss: 0.1937 - accuracy: 0.9304 - val_loss: 0.2499 - val_accuracy: 0.9062\n",
      "Epoch 18/100\n",
      "67/67 [==============================] - 1s 18ms/step - loss: 0.2093 - accuracy: 0.9262 - val_loss: 0.2560 - val_accuracy: 0.9082\n",
      "Epoch 19/100\n",
      "67/67 [==============================] - 1s 18ms/step - loss: 0.1841 - accuracy: 0.9342 - val_loss: 0.2991 - val_accuracy: 0.8945\n",
      "Epoch 20/100\n",
      "67/67 [==============================] - 1s 18ms/step - loss: 0.2067 - accuracy: 0.9174 - val_loss: 0.2557 - val_accuracy: 0.9043\n",
      "Epoch 21/100\n",
      "67/67 [==============================] - 1s 18ms/step - loss: 0.1704 - accuracy: 0.9356 - val_loss: 0.2445 - val_accuracy: 0.9160\n",
      "Epoch 22/100\n",
      "67/67 [==============================] - 1s 18ms/step - loss: 0.1676 - accuracy: 0.9346 - val_loss: 0.2608 - val_accuracy: 0.8965\n",
      "Epoch 23/100\n",
      "67/67 [==============================] - 1s 18ms/step - loss: 0.1519 - accuracy: 0.9412 - val_loss: 0.2739 - val_accuracy: 0.9062\n",
      "Epoch 24/100\n",
      "67/67 [==============================] - 1s 18ms/step - loss: 0.1475 - accuracy: 0.9491 - val_loss: 0.2776 - val_accuracy: 0.9043\n",
      "Epoch 25/100\n",
      "67/67 [==============================] - 1s 18ms/step - loss: 0.1280 - accuracy: 0.9472 - val_loss: 0.2508 - val_accuracy: 0.9160\n",
      "Epoch 26/100\n",
      "67/67 [==============================] - 1s 18ms/step - loss: 0.1279 - accuracy: 0.9491 - val_loss: 0.2918 - val_accuracy: 0.9043\n",
      "Epoch 27/100\n",
      "67/67 [==============================] - 1s 18ms/step - loss: 0.1326 - accuracy: 0.9505 - val_loss: 0.2709 - val_accuracy: 0.9102\n",
      "Epoch 28/100\n",
      "67/67 [==============================] - 1s 18ms/step - loss: 0.1262 - accuracy: 0.9570 - val_loss: 0.2512 - val_accuracy: 0.9160\n"
     ]
    },
    {
     "name": "stdout",
     "output_type": "stream",
     "text": [
      "Epoch 29/100\n",
      "67/67 [==============================] - 1s 18ms/step - loss: 0.1336 - accuracy: 0.9510 - val_loss: 0.2441 - val_accuracy: 0.9043\n",
      "Epoch 30/100\n",
      "67/67 [==============================] - 1s 18ms/step - loss: 0.1055 - accuracy: 0.9570 - val_loss: 0.3015 - val_accuracy: 0.8945\n",
      "Epoch 31/100\n",
      "67/67 [==============================] - 1s 18ms/step - loss: 0.1098 - accuracy: 0.9556 - val_loss: 0.2734 - val_accuracy: 0.9219\n",
      "Epoch 32/100\n",
      "67/67 [==============================] - 1s 18ms/step - loss: 0.1250 - accuracy: 0.9538 - val_loss: 0.2686 - val_accuracy: 0.9023\n",
      "Epoch 33/100\n",
      "67/67 [==============================] - 1s 18ms/step - loss: 0.1073 - accuracy: 0.9599 - val_loss: 0.2909 - val_accuracy: 0.9102\n",
      "Epoch 34/100\n",
      "67/67 [==============================] - 1s 18ms/step - loss: 0.0984 - accuracy: 0.9627 - val_loss: 0.2297 - val_accuracy: 0.9258\n",
      "Epoch 35/100\n",
      "67/67 [==============================] - 1s 18ms/step - loss: 0.1004 - accuracy: 0.9636 - val_loss: 0.2616 - val_accuracy: 0.9219\n",
      "Epoch 36/100\n",
      "67/67 [==============================] - 1s 18ms/step - loss: 0.0866 - accuracy: 0.9687 - val_loss: 0.3013 - val_accuracy: 0.9238\n",
      "Epoch 37/100\n",
      "67/67 [==============================] - 1s 18ms/step - loss: 0.0937 - accuracy: 0.9641 - val_loss: 0.3043 - val_accuracy: 0.9141\n",
      "Epoch 38/100\n",
      "67/67 [==============================] - 1s 18ms/step - loss: 0.0778 - accuracy: 0.9697 - val_loss: 0.3132 - val_accuracy: 0.9121\n",
      "Epoch 39/100\n",
      "67/67 [==============================] - 1s 18ms/step - loss: 0.0905 - accuracy: 0.9673 - val_loss: 0.2746 - val_accuracy: 0.9219\n",
      "Epoch 40/100\n",
      "67/67 [==============================] - 1s 18ms/step - loss: 0.0876 - accuracy: 0.9669 - val_loss: 0.2129 - val_accuracy: 0.9238\n",
      "Epoch 41/100\n",
      "67/67 [==============================] - 1s 18ms/step - loss: 0.0839 - accuracy: 0.9678 - val_loss: 0.3032 - val_accuracy: 0.9121\n",
      "Epoch 42/100\n",
      "67/67 [==============================] - 1s 18ms/step - loss: 0.0883 - accuracy: 0.9627 - val_loss: 0.3007 - val_accuracy: 0.9219\n",
      "Epoch 43/100\n",
      "67/67 [==============================] - 1s 18ms/step - loss: 0.0638 - accuracy: 0.9753 - val_loss: 0.3213 - val_accuracy: 0.9238\n",
      "Epoch 44/100\n",
      "67/67 [==============================] - 1s 18ms/step - loss: 0.0789 - accuracy: 0.9720 - val_loss: 0.2883 - val_accuracy: 0.9121\n",
      "Epoch 45/100\n",
      "67/67 [==============================] - 1s 18ms/step - loss: 0.0771 - accuracy: 0.9753 - val_loss: 0.2966 - val_accuracy: 0.9199\n",
      "Epoch 46/100\n",
      "67/67 [==============================] - 1s 18ms/step - loss: 0.0715 - accuracy: 0.9739 - val_loss: 0.3339 - val_accuracy: 0.9062\n",
      "Epoch 47/100\n",
      "67/67 [==============================] - 1s 18ms/step - loss: 0.0761 - accuracy: 0.9748 - val_loss: 0.2701 - val_accuracy: 0.9141\n",
      "Epoch 48/100\n",
      "67/67 [==============================] - 1s 18ms/step - loss: 0.0774 - accuracy: 0.9697 - val_loss: 0.2652 - val_accuracy: 0.9219\n",
      "Epoch 49/100\n",
      "67/67 [==============================] - 1s 18ms/step - loss: 0.0578 - accuracy: 0.9795 - val_loss: 0.2880 - val_accuracy: 0.9258\n",
      "Epoch 50/100\n",
      "67/67 [==============================] - 1s 18ms/step - loss: 0.0607 - accuracy: 0.9799 - val_loss: 0.2717 - val_accuracy: 0.9199\n",
      "Epoch 51/100\n",
      "67/67 [==============================] - 1s 18ms/step - loss: 0.0570 - accuracy: 0.9781 - val_loss: 0.2840 - val_accuracy: 0.9141\n",
      "Epoch 52/100\n",
      "67/67 [==============================] - 1s 18ms/step - loss: 0.0613 - accuracy: 0.9785 - val_loss: 0.3050 - val_accuracy: 0.9062\n",
      "Epoch 53/100\n",
      "67/67 [==============================] - 1s 18ms/step - loss: 0.0599 - accuracy: 0.9776 - val_loss: 0.2986 - val_accuracy: 0.9102\n",
      "Epoch 54/100\n",
      "67/67 [==============================] - 1s 18ms/step - loss: 0.0712 - accuracy: 0.9715 - val_loss: 0.2598 - val_accuracy: 0.9219\n",
      "Epoch 55/100\n",
      "67/67 [==============================] - 1s 18ms/step - loss: 0.0476 - accuracy: 0.9837 - val_loss: 0.2789 - val_accuracy: 0.9316\n",
      "Epoch 56/100\n",
      "67/67 [==============================] - 1s 18ms/step - loss: 0.0546 - accuracy: 0.9799 - val_loss: 0.2911 - val_accuracy: 0.9258\n",
      "Epoch 57/100\n",
      "67/67 [==============================] - 1s 18ms/step - loss: 0.0476 - accuracy: 0.9823 - val_loss: 0.2961 - val_accuracy: 0.9238\n",
      "Epoch 58/100\n",
      "67/67 [==============================] - 1s 18ms/step - loss: 0.0440 - accuracy: 0.9846 - val_loss: 0.3249 - val_accuracy: 0.9277\n",
      "Epoch 59/100\n",
      "67/67 [==============================] - 1s 19ms/step - loss: 0.0365 - accuracy: 0.9865 - val_loss: 0.3597 - val_accuracy: 0.9238\n",
      "Epoch 60/100\n",
      "67/67 [==============================] - 1s 18ms/step - loss: 0.0567 - accuracy: 0.9804 - val_loss: 0.2436 - val_accuracy: 0.9277\n",
      "Epoch 61/100\n",
      "67/67 [==============================] - 1s 18ms/step - loss: 0.0417 - accuracy: 0.9851 - val_loss: 0.3437 - val_accuracy: 0.9219\n",
      "Epoch 62/100\n",
      "67/67 [==============================] - 1s 18ms/step - loss: 0.0342 - accuracy: 0.9874 - val_loss: 0.3017 - val_accuracy: 0.9238\n",
      "Epoch 63/100\n",
      "67/67 [==============================] - 1s 18ms/step - loss: 0.0538 - accuracy: 0.9837 - val_loss: 0.2650 - val_accuracy: 0.9277\n",
      "Epoch 64/100\n",
      "67/67 [==============================] - 1s 18ms/step - loss: 0.0302 - accuracy: 0.9902 - val_loss: 0.3833 - val_accuracy: 0.9238\n",
      "Epoch 65/100\n",
      "67/67 [==============================] - 1s 18ms/step - loss: 0.0663 - accuracy: 0.9776 - val_loss: 0.2630 - val_accuracy: 0.9277\n",
      "Epoch 66/100\n",
      "67/67 [==============================] - 1s 18ms/step - loss: 0.0394 - accuracy: 0.9860 - val_loss: 0.2968 - val_accuracy: 0.9316\n",
      "Epoch 67/100\n",
      "67/67 [==============================] - 1s 18ms/step - loss: 0.0328 - accuracy: 0.9893 - val_loss: 0.2841 - val_accuracy: 0.9336\n",
      "Epoch 68/100\n",
      "67/67 [==============================] - 1s 18ms/step - loss: 0.0345 - accuracy: 0.9879 - val_loss: 0.3465 - val_accuracy: 0.9297\n",
      "Epoch 69/100\n",
      "67/67 [==============================] - 1s 18ms/step - loss: 0.0375 - accuracy: 0.9883 - val_loss: 0.3416 - val_accuracy: 0.9199\n",
      "Epoch 70/100\n",
      "67/67 [==============================] - 1s 18ms/step - loss: 0.0390 - accuracy: 0.9869 - val_loss: 0.3203 - val_accuracy: 0.9297\n",
      "Epoch 71/100\n",
      "67/67 [==============================] - 1s 18ms/step - loss: 0.0438 - accuracy: 0.9846 - val_loss: 0.2837 - val_accuracy: 0.9277\n",
      "Epoch 72/100\n",
      "67/67 [==============================] - 1s 18ms/step - loss: 0.0379 - accuracy: 0.9841 - val_loss: 0.3094 - val_accuracy: 0.9219\n",
      "Epoch 73/100\n",
      "67/67 [==============================] - 1s 18ms/step - loss: 0.0345 - accuracy: 0.9874 - val_loss: 0.3213 - val_accuracy: 0.9258\n",
      "Epoch 74/100\n",
      "67/67 [==============================] - 1s 18ms/step - loss: 0.0346 - accuracy: 0.9883 - val_loss: 0.3026 - val_accuracy: 0.9258\n",
      "Epoch 75/100\n",
      "67/67 [==============================] - 1s 18ms/step - loss: 0.0356 - accuracy: 0.9874 - val_loss: 0.2984 - val_accuracy: 0.9219\n",
      "Epoch 76/100\n",
      "67/67 [==============================] - 1s 18ms/step - loss: 0.0263 - accuracy: 0.9907 - val_loss: 0.3065 - val_accuracy: 0.9277\n",
      "Epoch 77/100\n",
      "67/67 [==============================] - 1s 18ms/step - loss: 0.0240 - accuracy: 0.9911 - val_loss: 0.3586 - val_accuracy: 0.9219\n",
      "Epoch 78/100\n",
      "67/67 [==============================] - 1s 18ms/step - loss: 0.0280 - accuracy: 0.9897 - val_loss: 0.3164 - val_accuracy: 0.9297\n",
      "Epoch 79/100\n",
      "67/67 [==============================] - 1s 18ms/step - loss: 0.0339 - accuracy: 0.9893 - val_loss: 0.2657 - val_accuracy: 0.9336\n",
      "Epoch 80/100\n",
      "67/67 [==============================] - 1s 18ms/step - loss: 0.0256 - accuracy: 0.9916 - val_loss: 0.3864 - val_accuracy: 0.9199\n",
      "Epoch 81/100\n",
      "67/67 [==============================] - 1s 18ms/step - loss: 0.0413 - accuracy: 0.9860 - val_loss: 0.3792 - val_accuracy: 0.9160\n",
      "Epoch 82/100\n",
      "67/67 [==============================] - 1s 18ms/step - loss: 0.0378 - accuracy: 0.9855 - val_loss: 0.3452 - val_accuracy: 0.9082\n",
      "Epoch 83/100\n",
      "67/67 [==============================] - 1s 18ms/step - loss: 0.0348 - accuracy: 0.9888 - val_loss: 0.4100 - val_accuracy: 0.9102\n",
      "Epoch 84/100\n",
      "67/67 [==============================] - 1s 18ms/step - loss: 0.0306 - accuracy: 0.9902 - val_loss: 0.3202 - val_accuracy: 0.9277\n",
      "Epoch 85/100\n",
      "67/67 [==============================] - 1s 18ms/step - loss: 0.0206 - accuracy: 0.9958 - val_loss: 0.3264 - val_accuracy: 0.9238\n",
      "Epoch 86/100\n",
      "67/67 [==============================] - 1s 18ms/step - loss: 0.0378 - accuracy: 0.9874 - val_loss: 0.3495 - val_accuracy: 0.9180\n",
      "Epoch 87/100\n",
      "67/67 [==============================] - 1s 18ms/step - loss: 0.0404 - accuracy: 0.9837 - val_loss: 0.3304 - val_accuracy: 0.9199\n",
      "Epoch 88/100\n",
      "67/67 [==============================] - 1s 20ms/step - loss: 0.0366 - accuracy: 0.9874 - val_loss: 0.2955 - val_accuracy: 0.9375\n",
      "Epoch 89/100\n",
      "67/67 [==============================] - 1s 19ms/step - loss: 0.0156 - accuracy: 0.9949 - val_loss: 0.3290 - val_accuracy: 0.9316\n",
      "Epoch 90/100\n",
      "67/67 [==============================] - 1s 19ms/step - loss: 0.0283 - accuracy: 0.9907 - val_loss: 0.4403 - val_accuracy: 0.9082\n",
      "Epoch 91/100\n",
      "67/67 [==============================] - 1s 19ms/step - loss: 0.0358 - accuracy: 0.9883 - val_loss: 0.3940 - val_accuracy: 0.9102\n",
      "Epoch 92/100\n",
      "67/67 [==============================] - 1s 19ms/step - loss: 0.0257 - accuracy: 0.9916 - val_loss: 0.3360 - val_accuracy: 0.9238\n",
      "Epoch 93/100\n",
      "67/67 [==============================] - 1s 18ms/step - loss: 0.0193 - accuracy: 0.9930 - val_loss: 0.3218 - val_accuracy: 0.9375\n",
      "Epoch 94/100\n",
      "67/67 [==============================] - 1s 18ms/step - loss: 0.0552 - accuracy: 0.9846 - val_loss: 0.3258 - val_accuracy: 0.9297\n",
      "Epoch 95/100\n",
      "67/67 [==============================] - 1s 19ms/step - loss: 0.0212 - accuracy: 0.9925 - val_loss: 0.3418 - val_accuracy: 0.9258\n",
      "Epoch 96/100\n",
      "67/67 [==============================] - 1s 18ms/step - loss: 0.0239 - accuracy: 0.9925 - val_loss: 0.3082 - val_accuracy: 0.9258\n",
      "Epoch 97/100\n",
      "67/67 [==============================] - 1s 18ms/step - loss: 0.0234 - accuracy: 0.9935 - val_loss: 0.2970 - val_accuracy: 0.9277\n",
      "Epoch 98/100\n",
      "67/67 [==============================] - 1s 18ms/step - loss: 0.0227 - accuracy: 0.9953 - val_loss: 0.3659 - val_accuracy: 0.9277\n",
      "Epoch 99/100\n",
      "67/67 [==============================] - 1s 19ms/step - loss: 0.0201 - accuracy: 0.9930 - val_loss: 0.3067 - val_accuracy: 0.9297\n",
      "Epoch 100/100\n",
      "67/67 [==============================] - 1s 19ms/step - loss: 0.0264 - accuracy: 0.9921 - val_loss: 0.3483 - val_accuracy: 0.9336\n",
      "21/21 [==============================] - 0s 14ms/step - loss: 0.4021 - accuracy: 0.9360\n",
      "Epoch 1/100\n",
      "67/67 [==============================] - 1s 20ms/step - loss: 1.0354 - accuracy: 0.6209 - val_loss: 0.7452 - val_accuracy: 0.7168\n",
      "Epoch 2/100\n",
      "67/67 [==============================] - 1s 19ms/step - loss: 0.6648 - accuracy: 0.7446 - val_loss: 0.5928 - val_accuracy: 0.7734\n",
      "Epoch 3/100\n",
      "67/67 [==============================] - 1s 18ms/step - loss: 0.5525 - accuracy: 0.7941 - val_loss: 0.4977 - val_accuracy: 0.8008\n",
      "Epoch 4/100\n",
      "67/67 [==============================] - 1s 18ms/step - loss: 0.4613 - accuracy: 0.8315 - val_loss: 0.4183 - val_accuracy: 0.8633\n",
      "Epoch 5/100\n",
      "67/67 [==============================] - 1s 18ms/step - loss: 0.4082 - accuracy: 0.8464 - val_loss: 0.3780 - val_accuracy: 0.8711\n",
      "Epoch 6/100\n",
      "67/67 [==============================] - 1s 19ms/step - loss: 0.3660 - accuracy: 0.8697 - val_loss: 0.3649 - val_accuracy: 0.8730\n",
      "Epoch 7/100\n",
      "67/67 [==============================] - 1s 19ms/step - loss: 0.3143 - accuracy: 0.8852 - val_loss: 0.3847 - val_accuracy: 0.8730\n",
      "Epoch 8/100\n",
      "67/67 [==============================] - 1s 18ms/step - loss: 0.2805 - accuracy: 0.9001 - val_loss: 0.2756 - val_accuracy: 0.8965\n",
      "Epoch 9/100\n",
      "67/67 [==============================] - 1s 18ms/step - loss: 0.2623 - accuracy: 0.9015 - val_loss: 0.2966 - val_accuracy: 0.9082\n",
      "Epoch 10/100\n",
      "67/67 [==============================] - 1s 18ms/step - loss: 0.2423 - accuracy: 0.9104 - val_loss: 0.3501 - val_accuracy: 0.8594\n",
      "Epoch 11/100\n",
      "67/67 [==============================] - 1s 18ms/step - loss: 0.2272 - accuracy: 0.9076 - val_loss: 0.2974 - val_accuracy: 0.8945\n",
      "Epoch 12/100\n",
      "67/67 [==============================] - 1s 18ms/step - loss: 0.2166 - accuracy: 0.9234 - val_loss: 0.2807 - val_accuracy: 0.8867\n",
      "Epoch 13/100\n",
      "67/67 [==============================] - 1s 19ms/step - loss: 0.1961 - accuracy: 0.9281 - val_loss: 0.2587 - val_accuracy: 0.9082\n",
      "Epoch 14/100\n",
      "67/67 [==============================] - 1s 19ms/step - loss: 0.1929 - accuracy: 0.9309 - val_loss: 0.2764 - val_accuracy: 0.9004\n",
      "Epoch 15/100\n",
      "67/67 [==============================] - 1s 19ms/step - loss: 0.1606 - accuracy: 0.9393 - val_loss: 0.2587 - val_accuracy: 0.9102\n",
      "Epoch 16/100\n",
      "67/67 [==============================] - 1s 18ms/step - loss: 0.1586 - accuracy: 0.9360 - val_loss: 0.2402 - val_accuracy: 0.9180\n",
      "Epoch 17/100\n",
      "67/67 [==============================] - 1s 19ms/step - loss: 0.1530 - accuracy: 0.9416 - val_loss: 0.2441 - val_accuracy: 0.9043\n",
      "Epoch 18/100\n",
      "67/67 [==============================] - 1s 19ms/step - loss: 0.1408 - accuracy: 0.9468 - val_loss: 0.2380 - val_accuracy: 0.9160\n",
      "Epoch 19/100\n",
      "67/67 [==============================] - 1s 18ms/step - loss: 0.1311 - accuracy: 0.9496 - val_loss: 0.3346 - val_accuracy: 0.8945\n",
      "Epoch 20/100\n",
      "67/67 [==============================] - 1s 19ms/step - loss: 0.1296 - accuracy: 0.9500 - val_loss: 0.2335 - val_accuracy: 0.9258\n",
      "Epoch 21/100\n",
      "67/67 [==============================] - 1s 18ms/step - loss: 0.1067 - accuracy: 0.9636 - val_loss: 0.3186 - val_accuracy: 0.9121\n",
      "Epoch 22/100\n",
      "67/67 [==============================] - 1s 18ms/step - loss: 0.1154 - accuracy: 0.9547 - val_loss: 0.2833 - val_accuracy: 0.9199\n",
      "Epoch 23/100\n",
      "67/67 [==============================] - 1s 19ms/step - loss: 0.0963 - accuracy: 0.9594 - val_loss: 0.3287 - val_accuracy: 0.9160\n",
      "Epoch 24/100\n",
      "67/67 [==============================] - 1s 19ms/step - loss: 0.1005 - accuracy: 0.9608 - val_loss: 0.3076 - val_accuracy: 0.9004\n",
      "Epoch 25/100\n",
      "67/67 [==============================] - 1s 18ms/step - loss: 0.0970 - accuracy: 0.9617 - val_loss: 0.2546 - val_accuracy: 0.9219\n",
      "Epoch 26/100\n",
      "67/67 [==============================] - 1s 18ms/step - loss: 0.0875 - accuracy: 0.9687 - val_loss: 0.2590 - val_accuracy: 0.9258\n",
      "Epoch 27/100\n",
      "67/67 [==============================] - 1s 18ms/step - loss: 0.0708 - accuracy: 0.9757 - val_loss: 0.3353 - val_accuracy: 0.9102\n",
      "Epoch 28/100\n",
      "67/67 [==============================] - 1s 18ms/step - loss: 0.0740 - accuracy: 0.9757 - val_loss: 0.3064 - val_accuracy: 0.9160\n",
      "Epoch 29/100\n",
      "67/67 [==============================] - 1s 18ms/step - loss: 0.0766 - accuracy: 0.9701 - val_loss: 0.3051 - val_accuracy: 0.9141\n",
      "Epoch 30/100\n",
      "67/67 [==============================] - 1s 19ms/step - loss: 0.0769 - accuracy: 0.9711 - val_loss: 0.2940 - val_accuracy: 0.9121\n",
      "Epoch 31/100\n",
      "67/67 [==============================] - 1s 18ms/step - loss: 0.0681 - accuracy: 0.9743 - val_loss: 0.3867 - val_accuracy: 0.9062\n",
      "Epoch 32/100\n",
      "67/67 [==============================] - 1s 18ms/step - loss: 0.0653 - accuracy: 0.9767 - val_loss: 0.3553 - val_accuracy: 0.8984\n",
      "Epoch 33/100\n",
      "67/67 [==============================] - 1s 18ms/step - loss: 0.0594 - accuracy: 0.9757 - val_loss: 0.2900 - val_accuracy: 0.9121\n",
      "Epoch 34/100\n",
      "67/67 [==============================] - 1s 18ms/step - loss: 0.0587 - accuracy: 0.9795 - val_loss: 0.3272 - val_accuracy: 0.9180\n",
      "Epoch 35/100\n",
      "67/67 [==============================] - 1s 18ms/step - loss: 0.0611 - accuracy: 0.9785 - val_loss: 0.3466 - val_accuracy: 0.9102\n",
      "Epoch 36/100\n",
      "67/67 [==============================] - 1s 18ms/step - loss: 0.0632 - accuracy: 0.9757 - val_loss: 0.2908 - val_accuracy: 0.9160\n",
      "Epoch 37/100\n",
      "67/67 [==============================] - 1s 18ms/step - loss: 0.0437 - accuracy: 0.9809 - val_loss: 0.3575 - val_accuracy: 0.9180\n",
      "Epoch 38/100\n",
      "67/67 [==============================] - 1s 18ms/step - loss: 0.0461 - accuracy: 0.9846 - val_loss: 0.3375 - val_accuracy: 0.9219\n",
      "Epoch 39/100\n",
      "67/67 [==============================] - 1s 18ms/step - loss: 0.0495 - accuracy: 0.9818 - val_loss: 0.3083 - val_accuracy: 0.9277\n",
      "Epoch 40/100\n",
      "67/67 [==============================] - 1s 18ms/step - loss: 0.0624 - accuracy: 0.9767 - val_loss: 0.3913 - val_accuracy: 0.9121\n",
      "Epoch 41/100\n",
      "67/67 [==============================] - 1s 18ms/step - loss: 0.0363 - accuracy: 0.9888 - val_loss: 0.4126 - val_accuracy: 0.9102\n",
      "Epoch 42/100\n",
      "67/67 [==============================] - 1s 18ms/step - loss: 0.0391 - accuracy: 0.9837 - val_loss: 0.3186 - val_accuracy: 0.9277\n"
     ]
    },
    {
     "name": "stdout",
     "output_type": "stream",
     "text": [
      "Epoch 43/100\n",
      "67/67 [==============================] - 1s 18ms/step - loss: 0.0337 - accuracy: 0.9911 - val_loss: 0.4810 - val_accuracy: 0.9199\n",
      "Epoch 44/100\n",
      "67/67 [==============================] - 1s 18ms/step - loss: 0.0362 - accuracy: 0.9865 - val_loss: 0.4300 - val_accuracy: 0.9141\n",
      "Epoch 45/100\n",
      "67/67 [==============================] - 1s 18ms/step - loss: 0.0728 - accuracy: 0.9748 - val_loss: 0.3649 - val_accuracy: 0.9160\n",
      "Epoch 46/100\n",
      "67/67 [==============================] - 1s 20ms/step - loss: 0.0317 - accuracy: 0.9911 - val_loss: 0.4291 - val_accuracy: 0.9082\n",
      "Epoch 47/100\n",
      "67/67 [==============================] - 1s 18ms/step - loss: 0.0210 - accuracy: 0.9935 - val_loss: 0.4399 - val_accuracy: 0.9160\n",
      "Epoch 48/100\n",
      "67/67 [==============================] - 1s 18ms/step - loss: 0.0293 - accuracy: 0.9893 - val_loss: 0.4177 - val_accuracy: 0.9121\n",
      "Epoch 49/100\n",
      "67/67 [==============================] - 1s 18ms/step - loss: 0.0296 - accuracy: 0.9869 - val_loss: 0.5143 - val_accuracy: 0.9004\n",
      "Epoch 50/100\n",
      "67/67 [==============================] - 1s 18ms/step - loss: 0.0510 - accuracy: 0.9841 - val_loss: 0.4118 - val_accuracy: 0.9082\n",
      "Epoch 51/100\n",
      "67/67 [==============================] - 1s 18ms/step - loss: 0.0290 - accuracy: 0.9893 - val_loss: 0.3938 - val_accuracy: 0.9180\n",
      "Epoch 52/100\n",
      "67/67 [==============================] - 1s 19ms/step - loss: 0.0258 - accuracy: 0.9897 - val_loss: 0.4051 - val_accuracy: 0.9258\n",
      "Epoch 53/100\n",
      "67/67 [==============================] - 1s 18ms/step - loss: 0.0324 - accuracy: 0.9869 - val_loss: 0.4145 - val_accuracy: 0.9180\n",
      "Epoch 54/100\n",
      "67/67 [==============================] - 1s 18ms/step - loss: 0.0405 - accuracy: 0.9823 - val_loss: 0.4349 - val_accuracy: 0.9121\n",
      "Epoch 55/100\n",
      "67/67 [==============================] - 1s 18ms/step - loss: 0.0244 - accuracy: 0.9921 - val_loss: 0.3868 - val_accuracy: 0.9180\n",
      "Epoch 56/100\n",
      "67/67 [==============================] - 1s 18ms/step - loss: 0.0309 - accuracy: 0.9874 - val_loss: 0.4550 - val_accuracy: 0.9082\n",
      "Epoch 57/100\n",
      "67/67 [==============================] - 1s 18ms/step - loss: 0.0241 - accuracy: 0.9916 - val_loss: 0.4159 - val_accuracy: 0.9180\n",
      "Epoch 58/100\n",
      "67/67 [==============================] - 1s 18ms/step - loss: 0.0258 - accuracy: 0.9935 - val_loss: 0.3750 - val_accuracy: 0.9258\n",
      "Epoch 59/100\n",
      "67/67 [==============================] - 1s 18ms/step - loss: 0.0696 - accuracy: 0.9799 - val_loss: 0.4051 - val_accuracy: 0.9141\n",
      "Epoch 60/100\n",
      "67/67 [==============================] - 1s 18ms/step - loss: 0.0321 - accuracy: 0.9907 - val_loss: 0.4288 - val_accuracy: 0.9082\n",
      "Epoch 61/100\n",
      "67/67 [==============================] - 1s 18ms/step - loss: 0.0169 - accuracy: 0.9953 - val_loss: 0.4493 - val_accuracy: 0.9160\n",
      "Epoch 62/100\n",
      "67/67 [==============================] - 1s 18ms/step - loss: 0.0235 - accuracy: 0.9935 - val_loss: 0.3914 - val_accuracy: 0.9238\n",
      "Epoch 63/100\n",
      "67/67 [==============================] - 1s 18ms/step - loss: 0.0272 - accuracy: 0.9911 - val_loss: 0.4125 - val_accuracy: 0.9258\n",
      "Epoch 64/100\n",
      "67/67 [==============================] - 1s 18ms/step - loss: 0.0164 - accuracy: 0.9935 - val_loss: 0.4445 - val_accuracy: 0.9219\n",
      "Epoch 65/100\n",
      "67/67 [==============================] - 1s 18ms/step - loss: 0.0228 - accuracy: 0.9921 - val_loss: 0.4568 - val_accuracy: 0.9121\n",
      "Epoch 66/100\n",
      "67/67 [==============================] - 1s 18ms/step - loss: 0.0135 - accuracy: 0.9949 - val_loss: 0.5141 - val_accuracy: 0.9082\n",
      "Epoch 67/100\n",
      "67/67 [==============================] - 1s 18ms/step - loss: 0.0426 - accuracy: 0.9860 - val_loss: 0.4435 - val_accuracy: 0.9160\n",
      "Epoch 68/100\n",
      "67/67 [==============================] - 1s 18ms/step - loss: 0.0254 - accuracy: 0.9893 - val_loss: 0.4656 - val_accuracy: 0.9180\n",
      "Epoch 69/100\n",
      "67/67 [==============================] - 1s 19ms/step - loss: 0.0229 - accuracy: 0.9949 - val_loss: 0.3522 - val_accuracy: 0.9297\n",
      "Epoch 70/100\n",
      "67/67 [==============================] - 1s 18ms/step - loss: 0.0195 - accuracy: 0.9939 - val_loss: 0.5198 - val_accuracy: 0.9219\n",
      "Epoch 71/100\n",
      "67/67 [==============================] - 1s 18ms/step - loss: 0.0325 - accuracy: 0.9897 - val_loss: 0.3166 - val_accuracy: 0.9238\n",
      "Epoch 72/100\n",
      "67/67 [==============================] - 1s 18ms/step - loss: 0.0249 - accuracy: 0.9916 - val_loss: 0.3962 - val_accuracy: 0.9277\n",
      "Epoch 73/100\n",
      "67/67 [==============================] - 1s 18ms/step - loss: 0.0309 - accuracy: 0.9902 - val_loss: 0.4904 - val_accuracy: 0.9141\n",
      "Epoch 74/100\n",
      "67/67 [==============================] - 1s 18ms/step - loss: 0.0217 - accuracy: 0.9897 - val_loss: 0.4716 - val_accuracy: 0.9102\n",
      "Epoch 75/100\n",
      "67/67 [==============================] - 1s 18ms/step - loss: 0.0239 - accuracy: 0.9911 - val_loss: 0.3669 - val_accuracy: 0.9316\n",
      "Epoch 76/100\n",
      "67/67 [==============================] - 1s 18ms/step - loss: 0.0101 - accuracy: 0.9958 - val_loss: 0.4360 - val_accuracy: 0.9336\n",
      "Epoch 77/100\n",
      "67/67 [==============================] - 1s 18ms/step - loss: 0.0170 - accuracy: 0.9939 - val_loss: 0.4598 - val_accuracy: 0.9141\n",
      "Epoch 78/100\n",
      "67/67 [==============================] - 1s 19ms/step - loss: 0.0163 - accuracy: 0.9930 - val_loss: 0.5028 - val_accuracy: 0.9141\n",
      "Epoch 79/100\n",
      "67/67 [==============================] - 1s 18ms/step - loss: 0.0214 - accuracy: 0.9949 - val_loss: 0.4171 - val_accuracy: 0.9160\n",
      "Epoch 80/100\n",
      "67/67 [==============================] - 1s 19ms/step - loss: 0.0146 - accuracy: 0.9958 - val_loss: 0.4024 - val_accuracy: 0.9219\n",
      "Epoch 81/100\n",
      "67/67 [==============================] - 1s 19ms/step - loss: 0.0197 - accuracy: 0.9921 - val_loss: 0.4661 - val_accuracy: 0.9297\n",
      "Epoch 82/100\n",
      "67/67 [==============================] - 1s 18ms/step - loss: 0.0125 - accuracy: 0.9963 - val_loss: 0.5282 - val_accuracy: 0.9121\n",
      "Epoch 83/100\n",
      "67/67 [==============================] - 1s 18ms/step - loss: 0.0128 - accuracy: 0.9953 - val_loss: 0.4433 - val_accuracy: 0.9180\n",
      "Epoch 84/100\n",
      "67/67 [==============================] - 1s 18ms/step - loss: 0.0146 - accuracy: 0.9958 - val_loss: 0.4873 - val_accuracy: 0.9141\n",
      "Epoch 85/100\n",
      "67/67 [==============================] - 1s 18ms/step - loss: 0.0084 - accuracy: 0.9972 - val_loss: 0.4850 - val_accuracy: 0.9160\n",
      "Epoch 86/100\n",
      "67/67 [==============================] - 1s 18ms/step - loss: 0.0159 - accuracy: 0.9944 - val_loss: 0.6639 - val_accuracy: 0.9180\n",
      "Epoch 87/100\n",
      "67/67 [==============================] - 1s 18ms/step - loss: 0.0201 - accuracy: 0.9921 - val_loss: 0.4748 - val_accuracy: 0.9180\n",
      "Epoch 88/100\n",
      "67/67 [==============================] - 1s 18ms/step - loss: 0.0141 - accuracy: 0.9949 - val_loss: 0.4569 - val_accuracy: 0.9199\n",
      "Epoch 89/100\n",
      "67/67 [==============================] - 1s 18ms/step - loss: 0.0116 - accuracy: 0.9972 - val_loss: 0.5503 - val_accuracy: 0.9121\n",
      "Epoch 90/100\n",
      "67/67 [==============================] - 1s 19ms/step - loss: 0.0102 - accuracy: 0.9981 - val_loss: 0.6545 - val_accuracy: 0.9121\n",
      "Epoch 91/100\n",
      "67/67 [==============================] - 1s 18ms/step - loss: 0.0495 - accuracy: 0.9837 - val_loss: 0.4911 - val_accuracy: 0.9160\n",
      "Epoch 92/100\n",
      "67/67 [==============================] - 1s 18ms/step - loss: 0.0225 - accuracy: 0.9916 - val_loss: 0.4795 - val_accuracy: 0.9277\n",
      "Epoch 93/100\n",
      "67/67 [==============================] - 1s 18ms/step - loss: 0.0158 - accuracy: 0.9944 - val_loss: 0.4655 - val_accuracy: 0.9102\n",
      "Epoch 94/100\n",
      "67/67 [==============================] - 1s 18ms/step - loss: 0.0254 - accuracy: 0.9907 - val_loss: 0.5248 - val_accuracy: 0.9141\n",
      "Epoch 95/100\n",
      "67/67 [==============================] - 1s 18ms/step - loss: 0.0055 - accuracy: 0.9986 - val_loss: 0.5241 - val_accuracy: 0.9238\n",
      "Epoch 96/100\n",
      "67/67 [==============================] - 1s 19ms/step - loss: 0.0196 - accuracy: 0.9935 - val_loss: 0.4511 - val_accuracy: 0.9199\n",
      "Epoch 97/100\n",
      "67/67 [==============================] - 1s 18ms/step - loss: 0.0131 - accuracy: 0.9949 - val_loss: 0.5229 - val_accuracy: 0.9180\n",
      "Epoch 98/100\n",
      "67/67 [==============================] - 1s 18ms/step - loss: 0.0120 - accuracy: 0.9967 - val_loss: 0.5303 - val_accuracy: 0.9199\n",
      "Epoch 99/100\n",
      "67/67 [==============================] - 1s 18ms/step - loss: 0.0246 - accuracy: 0.9944 - val_loss: 0.5475 - val_accuracy: 0.9004\n",
      "Epoch 100/100\n",
      "67/67 [==============================] - 1s 18ms/step - loss: 0.0300 - accuracy: 0.9930 - val_loss: 0.5243 - val_accuracy: 0.9180\n",
      "21/21 [==============================] - 0s 14ms/step - loss: 0.5476 - accuracy: 0.9211\n",
      "Epoch 1/100\n",
      "67/67 [==============================] - 1s 20ms/step - loss: 1.1751 - accuracy: 0.5878 - val_loss: 0.8047 - val_accuracy: 0.7344\n",
      "Epoch 2/100\n",
      "67/67 [==============================] - 1s 19ms/step - loss: 0.7262 - accuracy: 0.7110 - val_loss: 0.6093 - val_accuracy: 0.8008\n",
      "Epoch 3/100\n",
      "67/67 [==============================] - 1s 18ms/step - loss: 0.5848 - accuracy: 0.7890 - val_loss: 0.5000 - val_accuracy: 0.8320\n",
      "Epoch 4/100\n",
      "67/67 [==============================] - 1s 18ms/step - loss: 0.5035 - accuracy: 0.8277 - val_loss: 0.4095 - val_accuracy: 0.8809\n",
      "Epoch 5/100\n",
      "67/67 [==============================] - 1s 19ms/step - loss: 0.4362 - accuracy: 0.8445 - val_loss: 0.3760 - val_accuracy: 0.8867\n",
      "Epoch 6/100\n",
      "67/67 [==============================] - 1s 19ms/step - loss: 0.3996 - accuracy: 0.8557 - val_loss: 0.3237 - val_accuracy: 0.9043\n",
      "Epoch 7/100\n",
      "67/67 [==============================] - 1s 18ms/step - loss: 0.3519 - accuracy: 0.8782 - val_loss: 0.3335 - val_accuracy: 0.8770\n",
      "Epoch 8/100\n",
      "67/67 [==============================] - 1s 18ms/step - loss: 0.3301 - accuracy: 0.8875 - val_loss: 0.3032 - val_accuracy: 0.8984\n",
      "Epoch 9/100\n",
      "67/67 [==============================] - 1s 18ms/step - loss: 0.3146 - accuracy: 0.8903 - val_loss: 0.3257 - val_accuracy: 0.8867\n",
      "Epoch 10/100\n",
      "67/67 [==============================] - 1s 18ms/step - loss: 0.2750 - accuracy: 0.8978 - val_loss: 0.2819 - val_accuracy: 0.9102\n",
      "Epoch 11/100\n",
      "67/67 [==============================] - 1s 18ms/step - loss: 0.2743 - accuracy: 0.9001 - val_loss: 0.2605 - val_accuracy: 0.9180\n",
      "Epoch 12/100\n",
      "67/67 [==============================] - 1s 18ms/step - loss: 0.2671 - accuracy: 0.9136 - val_loss: 0.2727 - val_accuracy: 0.9141\n",
      "Epoch 13/100\n",
      "67/67 [==============================] - 1s 18ms/step - loss: 0.2422 - accuracy: 0.9066 - val_loss: 0.2394 - val_accuracy: 0.9219\n",
      "Epoch 14/100\n",
      "67/67 [==============================] - 1s 18ms/step - loss: 0.2143 - accuracy: 0.9206 - val_loss: 0.2442 - val_accuracy: 0.9160\n",
      "Epoch 15/100\n",
      "67/67 [==============================] - 1s 18ms/step - loss: 0.1949 - accuracy: 0.9258 - val_loss: 0.2325 - val_accuracy: 0.9238\n",
      "Epoch 16/100\n",
      "67/67 [==============================] - 1s 18ms/step - loss: 0.1937 - accuracy: 0.9286 - val_loss: 0.2148 - val_accuracy: 0.9238\n",
      "Epoch 17/100\n",
      "67/67 [==============================] - 1s 18ms/step - loss: 0.1997 - accuracy: 0.9197 - val_loss: 0.2214 - val_accuracy: 0.9219\n",
      "Epoch 18/100\n",
      "67/67 [==============================] - 1s 18ms/step - loss: 0.1668 - accuracy: 0.9346 - val_loss: 0.2163 - val_accuracy: 0.9277\n",
      "Epoch 19/100\n",
      "67/67 [==============================] - 1s 18ms/step - loss: 0.1656 - accuracy: 0.9346 - val_loss: 0.2201 - val_accuracy: 0.9180\n",
      "Epoch 20/100\n",
      "67/67 [==============================] - 1s 18ms/step - loss: 0.1681 - accuracy: 0.9272 - val_loss: 0.2394 - val_accuracy: 0.9062\n",
      "Epoch 21/100\n",
      "67/67 [==============================] - 1s 18ms/step - loss: 0.1625 - accuracy: 0.9356 - val_loss: 0.2438 - val_accuracy: 0.9277\n",
      "Epoch 22/100\n",
      "67/67 [==============================] - 1s 18ms/step - loss: 0.1437 - accuracy: 0.9454 - val_loss: 0.2567 - val_accuracy: 0.9180\n",
      "Epoch 23/100\n",
      "67/67 [==============================] - 1s 18ms/step - loss: 0.1319 - accuracy: 0.9468 - val_loss: 0.2479 - val_accuracy: 0.9258\n",
      "Epoch 24/100\n",
      "67/67 [==============================] - 1s 18ms/step - loss: 0.1237 - accuracy: 0.9472 - val_loss: 0.2232 - val_accuracy: 0.9355\n",
      "Epoch 25/100\n",
      "67/67 [==============================] - 1s 18ms/step - loss: 0.1238 - accuracy: 0.9519 - val_loss: 0.2435 - val_accuracy: 0.9160\n",
      "Epoch 26/100\n",
      "67/67 [==============================] - 1s 19ms/step - loss: 0.1355 - accuracy: 0.9482 - val_loss: 0.2788 - val_accuracy: 0.9121\n",
      "Epoch 27/100\n",
      "67/67 [==============================] - 1s 18ms/step - loss: 0.1111 - accuracy: 0.9575 - val_loss: 0.2588 - val_accuracy: 0.9180\n",
      "Epoch 28/100\n",
      "67/67 [==============================] - 1s 19ms/step - loss: 0.1159 - accuracy: 0.9566 - val_loss: 0.3300 - val_accuracy: 0.9102\n",
      "Epoch 29/100\n",
      "67/67 [==============================] - 1s 19ms/step - loss: 0.1197 - accuracy: 0.9561 - val_loss: 0.2654 - val_accuracy: 0.9258\n",
      "Epoch 30/100\n",
      "67/67 [==============================] - 1s 19ms/step - loss: 0.1174 - accuracy: 0.9538 - val_loss: 0.2750 - val_accuracy: 0.9160\n",
      "Epoch 31/100\n",
      "67/67 [==============================] - 1s 18ms/step - loss: 0.1156 - accuracy: 0.9561 - val_loss: 0.2626 - val_accuracy: 0.9258\n",
      "Epoch 32/100\n",
      "67/67 [==============================] - 1s 19ms/step - loss: 0.0814 - accuracy: 0.9706 - val_loss: 0.3105 - val_accuracy: 0.9180\n",
      "Epoch 33/100\n",
      "67/67 [==============================] - 1s 19ms/step - loss: 0.0816 - accuracy: 0.9683 - val_loss: 0.2527 - val_accuracy: 0.9375\n",
      "Epoch 34/100\n",
      "67/67 [==============================] - 1s 19ms/step - loss: 0.1033 - accuracy: 0.9608 - val_loss: 0.2647 - val_accuracy: 0.9238\n",
      "Epoch 35/100\n",
      "67/67 [==============================] - 1s 18ms/step - loss: 0.0798 - accuracy: 0.9697 - val_loss: 0.2951 - val_accuracy: 0.9219\n",
      "Epoch 36/100\n",
      "67/67 [==============================] - 1s 18ms/step - loss: 0.0846 - accuracy: 0.9645 - val_loss: 0.2525 - val_accuracy: 0.9414\n",
      "Epoch 37/100\n",
      "67/67 [==============================] - 1s 18ms/step - loss: 0.0842 - accuracy: 0.9711 - val_loss: 0.2853 - val_accuracy: 0.9355\n",
      "Epoch 38/100\n",
      "67/67 [==============================] - 1s 18ms/step - loss: 0.0846 - accuracy: 0.9683 - val_loss: 0.2564 - val_accuracy: 0.9141\n",
      "Epoch 39/100\n",
      "67/67 [==============================] - 1s 18ms/step - loss: 0.0611 - accuracy: 0.9753 - val_loss: 0.2978 - val_accuracy: 0.9180\n",
      "Epoch 40/100\n",
      "67/67 [==============================] - 1s 18ms/step - loss: 0.0606 - accuracy: 0.9739 - val_loss: 0.2801 - val_accuracy: 0.9258\n",
      "Epoch 41/100\n",
      "67/67 [==============================] - 1s 19ms/step - loss: 0.0843 - accuracy: 0.9659 - val_loss: 0.3633 - val_accuracy: 0.9199\n",
      "Epoch 42/100\n",
      "67/67 [==============================] - 1s 19ms/step - loss: 0.0618 - accuracy: 0.9767 - val_loss: 0.2795 - val_accuracy: 0.9355\n",
      "Epoch 43/100\n",
      "67/67 [==============================] - 1s 18ms/step - loss: 0.0546 - accuracy: 0.9781 - val_loss: 0.3355 - val_accuracy: 0.9238\n",
      "Epoch 44/100\n",
      "67/67 [==============================] - 1s 19ms/step - loss: 0.0578 - accuracy: 0.9809 - val_loss: 0.3119 - val_accuracy: 0.9258\n",
      "Epoch 45/100\n",
      "67/67 [==============================] - 1s 19ms/step - loss: 0.0536 - accuracy: 0.9785 - val_loss: 0.3568 - val_accuracy: 0.9219\n",
      "Epoch 46/100\n",
      "67/67 [==============================] - 1s 19ms/step - loss: 0.0492 - accuracy: 0.9823 - val_loss: 0.2929 - val_accuracy: 0.9355\n",
      "Epoch 47/100\n",
      "67/67 [==============================] - 1s 18ms/step - loss: 0.0486 - accuracy: 0.9827 - val_loss: 0.3281 - val_accuracy: 0.9258\n",
      "Epoch 48/100\n",
      "67/67 [==============================] - 1s 19ms/step - loss: 0.0599 - accuracy: 0.9781 - val_loss: 0.3546 - val_accuracy: 0.9258\n",
      "Epoch 49/100\n",
      "67/67 [==============================] - 1s 19ms/step - loss: 0.0521 - accuracy: 0.9799 - val_loss: 0.3289 - val_accuracy: 0.9238\n",
      "Epoch 50/100\n",
      "67/67 [==============================] - 1s 19ms/step - loss: 0.0418 - accuracy: 0.9841 - val_loss: 0.3336 - val_accuracy: 0.9180\n",
      "Epoch 51/100\n",
      "67/67 [==============================] - 1s 19ms/step - loss: 0.0438 - accuracy: 0.9832 - val_loss: 0.3245 - val_accuracy: 0.9277\n",
      "Epoch 52/100\n",
      "67/67 [==============================] - 1s 18ms/step - loss: 0.0527 - accuracy: 0.9827 - val_loss: 0.3070 - val_accuracy: 0.9238\n",
      "Epoch 53/100\n",
      "67/67 [==============================] - 1s 19ms/step - loss: 0.0714 - accuracy: 0.9757 - val_loss: 0.2930 - val_accuracy: 0.9375\n",
      "Epoch 54/100\n",
      "67/67 [==============================] - 1s 19ms/step - loss: 0.0397 - accuracy: 0.9841 - val_loss: 0.4639 - val_accuracy: 0.9336\n",
      "Epoch 55/100\n",
      "67/67 [==============================] - 1s 18ms/step - loss: 0.0521 - accuracy: 0.9813 - val_loss: 0.3134 - val_accuracy: 0.9258\n",
      "Epoch 56/100\n",
      "67/67 [==============================] - 1s 19ms/step - loss: 0.0421 - accuracy: 0.9860 - val_loss: 0.3351 - val_accuracy: 0.9277\n"
     ]
    },
    {
     "name": "stdout",
     "output_type": "stream",
     "text": [
      "Epoch 57/100\n",
      "67/67 [==============================] - 1s 19ms/step - loss: 0.0450 - accuracy: 0.9846 - val_loss: 0.3419 - val_accuracy: 0.9355\n",
      "Epoch 58/100\n",
      "67/67 [==============================] - 1s 19ms/step - loss: 0.0427 - accuracy: 0.9846 - val_loss: 0.3666 - val_accuracy: 0.9160\n",
      "Epoch 59/100\n",
      "67/67 [==============================] - 1s 18ms/step - loss: 0.0436 - accuracy: 0.9823 - val_loss: 0.3192 - val_accuracy: 0.9336\n",
      "Epoch 60/100\n",
      "67/67 [==============================] - 1s 18ms/step - loss: 0.0242 - accuracy: 0.9916 - val_loss: 0.3728 - val_accuracy: 0.9316\n",
      "Epoch 61/100\n",
      "67/67 [==============================] - 1s 18ms/step - loss: 0.0291 - accuracy: 0.9888 - val_loss: 0.3898 - val_accuracy: 0.9219\n",
      "Epoch 62/100\n",
      "67/67 [==============================] - 1s 18ms/step - loss: 0.0623 - accuracy: 0.9813 - val_loss: 0.2969 - val_accuracy: 0.9336\n",
      "Epoch 63/100\n",
      "67/67 [==============================] - 1s 18ms/step - loss: 0.0290 - accuracy: 0.9893 - val_loss: 0.3253 - val_accuracy: 0.9219\n",
      "Epoch 64/100\n",
      "67/67 [==============================] - 1s 19ms/step - loss: 0.0446 - accuracy: 0.9874 - val_loss: 0.3737 - val_accuracy: 0.9277\n",
      "Epoch 65/100\n",
      "67/67 [==============================] - 1s 19ms/step - loss: 0.0337 - accuracy: 0.9869 - val_loss: 0.4046 - val_accuracy: 0.9316\n",
      "Epoch 66/100\n",
      "67/67 [==============================] - 1s 19ms/step - loss: 0.0640 - accuracy: 0.9799 - val_loss: 0.3761 - val_accuracy: 0.9297\n",
      "Epoch 67/100\n",
      "67/67 [==============================] - 1s 19ms/step - loss: 0.0411 - accuracy: 0.9874 - val_loss: 0.3886 - val_accuracy: 0.9258\n",
      "Epoch 68/100\n",
      "67/67 [==============================] - 1s 19ms/step - loss: 0.0433 - accuracy: 0.9893 - val_loss: 0.3322 - val_accuracy: 0.9258\n",
      "Epoch 69/100\n",
      "67/67 [==============================] - 1s 18ms/step - loss: 0.0380 - accuracy: 0.9888 - val_loss: 0.2823 - val_accuracy: 0.9297\n",
      "Epoch 70/100\n",
      "67/67 [==============================] - 1s 18ms/step - loss: 0.0197 - accuracy: 0.9911 - val_loss: 0.3629 - val_accuracy: 0.9375\n",
      "Epoch 71/100\n",
      "67/67 [==============================] - 1s 19ms/step - loss: 0.0359 - accuracy: 0.9897 - val_loss: 0.3828 - val_accuracy: 0.9277\n",
      "Epoch 72/100\n",
      "67/67 [==============================] - 1s 19ms/step - loss: 0.0234 - accuracy: 0.9907 - val_loss: 0.4204 - val_accuracy: 0.9199\n",
      "Epoch 73/100\n",
      "67/67 [==============================] - 1s 19ms/step - loss: 0.0260 - accuracy: 0.9911 - val_loss: 0.4344 - val_accuracy: 0.9219\n",
      "Epoch 74/100\n",
      "67/67 [==============================] - 1s 19ms/step - loss: 0.0306 - accuracy: 0.9874 - val_loss: 0.3537 - val_accuracy: 0.9277\n",
      "Epoch 75/100\n",
      "67/67 [==============================] - 1s 19ms/step - loss: 0.0318 - accuracy: 0.9879 - val_loss: 0.3527 - val_accuracy: 0.9355\n",
      "Epoch 76/100\n",
      "67/67 [==============================] - 1s 19ms/step - loss: 0.0346 - accuracy: 0.9855 - val_loss: 0.3680 - val_accuracy: 0.9277\n",
      "Epoch 77/100\n",
      "67/67 [==============================] - 1s 19ms/step - loss: 0.0253 - accuracy: 0.9879 - val_loss: 0.3602 - val_accuracy: 0.9316\n",
      "Epoch 78/100\n",
      "67/67 [==============================] - 1s 19ms/step - loss: 0.0206 - accuracy: 0.9930 - val_loss: 0.4663 - val_accuracy: 0.9277\n",
      "Epoch 79/100\n",
      "67/67 [==============================] - 1s 19ms/step - loss: 0.0241 - accuracy: 0.9939 - val_loss: 0.5174 - val_accuracy: 0.9316\n",
      "Epoch 80/100\n",
      "67/67 [==============================] - 1s 19ms/step - loss: 0.0404 - accuracy: 0.9879 - val_loss: 0.2938 - val_accuracy: 0.9180\n",
      "Epoch 81/100\n",
      "67/67 [==============================] - 1s 18ms/step - loss: 0.0366 - accuracy: 0.9879 - val_loss: 0.3500 - val_accuracy: 0.9316\n",
      "Epoch 82/100\n",
      "67/67 [==============================] - 1s 18ms/step - loss: 0.0301 - accuracy: 0.9907 - val_loss: 0.3334 - val_accuracy: 0.9375\n",
      "Epoch 83/100\n",
      "67/67 [==============================] - 1s 19ms/step - loss: 0.0258 - accuracy: 0.9893 - val_loss: 0.4381 - val_accuracy: 0.9316\n",
      "Epoch 84/100\n",
      "67/67 [==============================] - 1s 19ms/step - loss: 0.0240 - accuracy: 0.9907 - val_loss: 0.3943 - val_accuracy: 0.9277\n",
      "Epoch 85/100\n",
      "67/67 [==============================] - 1s 19ms/step - loss: 0.0255 - accuracy: 0.9921 - val_loss: 0.3665 - val_accuracy: 0.9258\n",
      "Epoch 86/100\n",
      "67/67 [==============================] - 1s 19ms/step - loss: 0.0398 - accuracy: 0.9893 - val_loss: 0.3434 - val_accuracy: 0.9199\n",
      "Epoch 87/100\n",
      "67/67 [==============================] - 1s 19ms/step - loss: 0.0244 - accuracy: 0.9907 - val_loss: 0.3190 - val_accuracy: 0.9258\n",
      "Epoch 88/100\n",
      "67/67 [==============================] - 1s 19ms/step - loss: 0.0215 - accuracy: 0.9949 - val_loss: 0.4279 - val_accuracy: 0.9199\n",
      "Epoch 89/100\n",
      "67/67 [==============================] - 1s 19ms/step - loss: 0.0122 - accuracy: 0.9958 - val_loss: 0.3577 - val_accuracy: 0.9316\n",
      "Epoch 90/100\n",
      "67/67 [==============================] - 1s 19ms/step - loss: 0.0169 - accuracy: 0.9939 - val_loss: 0.3807 - val_accuracy: 0.9199\n",
      "Epoch 91/100\n",
      "67/67 [==============================] - 1s 18ms/step - loss: 0.0346 - accuracy: 0.9911 - val_loss: 0.4320 - val_accuracy: 0.9258\n",
      "Epoch 92/100\n",
      "67/67 [==============================] - 1s 19ms/step - loss: 0.0259 - accuracy: 0.9911 - val_loss: 0.3661 - val_accuracy: 0.9277\n",
      "Epoch 93/100\n",
      "67/67 [==============================] - 1s 19ms/step - loss: 0.0154 - accuracy: 0.9949 - val_loss: 0.4552 - val_accuracy: 0.9180\n",
      "Epoch 94/100\n",
      "67/67 [==============================] - 1s 19ms/step - loss: 0.0471 - accuracy: 0.9869 - val_loss: 0.4408 - val_accuracy: 0.9121\n",
      "Epoch 95/100\n",
      "67/67 [==============================] - 1s 19ms/step - loss: 0.0400 - accuracy: 0.9874 - val_loss: 0.4390 - val_accuracy: 0.9238\n",
      "Epoch 96/100\n",
      "67/67 [==============================] - 1s 19ms/step - loss: 0.0242 - accuracy: 0.9916 - val_loss: 0.4281 - val_accuracy: 0.9199\n",
      "Epoch 97/100\n",
      "67/67 [==============================] - 1s 19ms/step - loss: 0.0339 - accuracy: 0.9907 - val_loss: 0.3774 - val_accuracy: 0.9238\n",
      "Epoch 98/100\n",
      "67/67 [==============================] - 1s 19ms/step - loss: 0.0168 - accuracy: 0.9944 - val_loss: 0.4159 - val_accuracy: 0.9297\n",
      "Epoch 99/100\n",
      "67/67 [==============================] - 1s 19ms/step - loss: 0.0130 - accuracy: 0.9958 - val_loss: 0.4248 - val_accuracy: 0.9238\n",
      "Epoch 100/100\n",
      "67/67 [==============================] - 1s 19ms/step - loss: 0.0226 - accuracy: 0.9921 - val_loss: 0.3385 - val_accuracy: 0.9277\n",
      "21/21 [==============================] - 0s 15ms/step - loss: 0.3814 - accuracy: 0.9330\n",
      "Epoch 1/100\n",
      "67/67 [==============================] - 2s 36ms/step - loss: 1.0987 - accuracy: 0.6004 - val_loss: 0.7013 - val_accuracy: 0.7051\n",
      "Epoch 2/100\n",
      "67/67 [==============================] - 2s 34ms/step - loss: 0.6730 - accuracy: 0.7418 - val_loss: 0.5554 - val_accuracy: 0.7930\n",
      "Epoch 3/100\n",
      "67/67 [==============================] - 2s 34ms/step - loss: 0.5600 - accuracy: 0.7979 - val_loss: 0.5461 - val_accuracy: 0.7891\n",
      "Epoch 4/100\n",
      "67/67 [==============================] - 2s 34ms/step - loss: 0.4482 - accuracy: 0.8389 - val_loss: 0.3905 - val_accuracy: 0.8594\n",
      "Epoch 5/100\n",
      "67/67 [==============================] - 2s 34ms/step - loss: 0.4036 - accuracy: 0.8501 - val_loss: 0.3504 - val_accuracy: 0.8652\n",
      "Epoch 6/100\n",
      "67/67 [==============================] - 2s 34ms/step - loss: 0.3333 - accuracy: 0.8894 - val_loss: 0.2932 - val_accuracy: 0.9062\n",
      "Epoch 7/100\n",
      "67/67 [==============================] - 2s 34ms/step - loss: 0.3147 - accuracy: 0.8898 - val_loss: 0.3146 - val_accuracy: 0.8984\n",
      "Epoch 8/100\n",
      "67/67 [==============================] - 2s 34ms/step - loss: 0.2822 - accuracy: 0.9015 - val_loss: 0.2944 - val_accuracy: 0.9102\n",
      "Epoch 9/100\n",
      "67/67 [==============================] - 2s 34ms/step - loss: 0.2730 - accuracy: 0.9024 - val_loss: 0.2888 - val_accuracy: 0.9004\n",
      "Epoch 10/100\n",
      "67/67 [==============================] - 2s 34ms/step - loss: 0.2371 - accuracy: 0.9127 - val_loss: 0.2948 - val_accuracy: 0.9043\n",
      "Epoch 11/100\n",
      "67/67 [==============================] - 2s 34ms/step - loss: 0.2328 - accuracy: 0.9071 - val_loss: 0.2593 - val_accuracy: 0.9121\n",
      "Epoch 12/100\n",
      "67/67 [==============================] - 2s 34ms/step - loss: 0.2000 - accuracy: 0.9272 - val_loss: 0.2718 - val_accuracy: 0.9043\n",
      "Epoch 13/100\n",
      "67/67 [==============================] - 2s 34ms/step - loss: 0.1916 - accuracy: 0.9290 - val_loss: 0.2663 - val_accuracy: 0.9082\n"
     ]
    },
    {
     "name": "stdout",
     "output_type": "stream",
     "text": [
      "Epoch 14/100\n",
      "67/67 [==============================] - 2s 34ms/step - loss: 0.1618 - accuracy: 0.9370 - val_loss: 0.2484 - val_accuracy: 0.9121\n",
      "Epoch 15/100\n",
      "67/67 [==============================] - 2s 34ms/step - loss: 0.1552 - accuracy: 0.9402 - val_loss: 0.2747 - val_accuracy: 0.9160\n",
      "Epoch 16/100\n",
      "67/67 [==============================] - 2s 34ms/step - loss: 0.1497 - accuracy: 0.9412 - val_loss: 0.2406 - val_accuracy: 0.9277\n",
      "Epoch 17/100\n",
      "67/67 [==============================] - 2s 34ms/step - loss: 0.1222 - accuracy: 0.9510 - val_loss: 0.2424 - val_accuracy: 0.9082\n",
      "Epoch 18/100\n",
      "67/67 [==============================] - 2s 34ms/step - loss: 0.1461 - accuracy: 0.9514 - val_loss: 0.2371 - val_accuracy: 0.9062\n",
      "Epoch 19/100\n",
      "67/67 [==============================] - 2s 34ms/step - loss: 0.1044 - accuracy: 0.9594 - val_loss: 0.2594 - val_accuracy: 0.9160\n",
      "Epoch 20/100\n",
      "67/67 [==============================] - 2s 34ms/step - loss: 0.1082 - accuracy: 0.9608 - val_loss: 0.2548 - val_accuracy: 0.9297\n",
      "Epoch 21/100\n",
      "67/67 [==============================] - 2s 34ms/step - loss: 0.0975 - accuracy: 0.9645 - val_loss: 0.3487 - val_accuracy: 0.9141\n",
      "Epoch 22/100\n",
      "67/67 [==============================] - 2s 34ms/step - loss: 0.1055 - accuracy: 0.9547 - val_loss: 0.2790 - val_accuracy: 0.9219\n",
      "Epoch 23/100\n",
      "67/67 [==============================] - 2s 34ms/step - loss: 0.0869 - accuracy: 0.9687 - val_loss: 0.3191 - val_accuracy: 0.9160\n",
      "Epoch 24/100\n",
      "67/67 [==============================] - 2s 34ms/step - loss: 0.0957 - accuracy: 0.9641 - val_loss: 0.2781 - val_accuracy: 0.9199\n",
      "Epoch 25/100\n",
      "67/67 [==============================] - 2s 34ms/step - loss: 0.0946 - accuracy: 0.9641 - val_loss: 0.3635 - val_accuracy: 0.9082\n",
      "Epoch 26/100\n",
      "67/67 [==============================] - 2s 34ms/step - loss: 0.0787 - accuracy: 0.9739 - val_loss: 0.2546 - val_accuracy: 0.9316\n",
      "Epoch 27/100\n",
      "67/67 [==============================] - 2s 34ms/step - loss: 0.0617 - accuracy: 0.9790 - val_loss: 0.3441 - val_accuracy: 0.9102\n",
      "Epoch 28/100\n",
      "67/67 [==============================] - 2s 34ms/step - loss: 0.0755 - accuracy: 0.9729 - val_loss: 0.3362 - val_accuracy: 0.9160\n",
      "Epoch 29/100\n",
      "67/67 [==============================] - 2s 34ms/step - loss: 0.0571 - accuracy: 0.9790 - val_loss: 0.3652 - val_accuracy: 0.9238\n",
      "Epoch 30/100\n",
      "67/67 [==============================] - 2s 34ms/step - loss: 0.0593 - accuracy: 0.9762 - val_loss: 0.3104 - val_accuracy: 0.9199\n",
      "Epoch 31/100\n",
      "67/67 [==============================] - 2s 34ms/step - loss: 0.0579 - accuracy: 0.9795 - val_loss: 0.3595 - val_accuracy: 0.9238\n",
      "Epoch 32/100\n",
      "67/67 [==============================] - 2s 34ms/step - loss: 0.0712 - accuracy: 0.9748 - val_loss: 0.3819 - val_accuracy: 0.9141\n",
      "Epoch 33/100\n",
      "67/67 [==============================] - 2s 34ms/step - loss: 0.0556 - accuracy: 0.9790 - val_loss: 0.3070 - val_accuracy: 0.9141\n",
      "Epoch 34/100\n",
      "67/67 [==============================] - 2s 34ms/step - loss: 0.0521 - accuracy: 0.9804 - val_loss: 0.4122 - val_accuracy: 0.9219\n",
      "Epoch 35/100\n",
      "67/67 [==============================] - 2s 34ms/step - loss: 0.0450 - accuracy: 0.9837 - val_loss: 0.3719 - val_accuracy: 0.9277\n",
      "Epoch 36/100\n",
      "67/67 [==============================] - 2s 34ms/step - loss: 0.0672 - accuracy: 0.9762 - val_loss: 0.3930 - val_accuracy: 0.9160\n",
      "Epoch 37/100\n",
      "67/67 [==============================] - 2s 34ms/step - loss: 0.0490 - accuracy: 0.9818 - val_loss: 0.3945 - val_accuracy: 0.9121\n",
      "Epoch 38/100\n",
      "67/67 [==============================] - 2s 34ms/step - loss: 0.0571 - accuracy: 0.9841 - val_loss: 0.2925 - val_accuracy: 0.9277\n",
      "Epoch 39/100\n",
      "67/67 [==============================] - 2s 34ms/step - loss: 0.0400 - accuracy: 0.9865 - val_loss: 0.3507 - val_accuracy: 0.9199\n",
      "Epoch 40/100\n",
      "67/67 [==============================] - 2s 34ms/step - loss: 0.0297 - accuracy: 0.9888 - val_loss: 0.4590 - val_accuracy: 0.9102\n",
      "Epoch 41/100\n",
      "67/67 [==============================] - 2s 34ms/step - loss: 0.0380 - accuracy: 0.9874 - val_loss: 0.3545 - val_accuracy: 0.9004\n",
      "Epoch 42/100\n",
      "67/67 [==============================] - 2s 34ms/step - loss: 0.0363 - accuracy: 0.9860 - val_loss: 0.3646 - val_accuracy: 0.9238\n",
      "Epoch 43/100\n",
      "67/67 [==============================] - 2s 34ms/step - loss: 0.0420 - accuracy: 0.9851 - val_loss: 0.3582 - val_accuracy: 0.9180\n",
      "Epoch 44/100\n",
      "67/67 [==============================] - 2s 34ms/step - loss: 0.0281 - accuracy: 0.9916 - val_loss: 0.3970 - val_accuracy: 0.9141\n",
      "Epoch 45/100\n",
      "67/67 [==============================] - 2s 34ms/step - loss: 0.0276 - accuracy: 0.9883 - val_loss: 0.3809 - val_accuracy: 0.9219\n",
      "Epoch 46/100\n",
      "67/67 [==============================] - 2s 34ms/step - loss: 0.0468 - accuracy: 0.9832 - val_loss: 0.3319 - val_accuracy: 0.9141\n",
      "Epoch 47/100\n",
      "67/67 [==============================] - 2s 34ms/step - loss: 0.0416 - accuracy: 0.9874 - val_loss: 0.3468 - val_accuracy: 0.9160\n",
      "Epoch 48/100\n",
      "67/67 [==============================] - 2s 34ms/step - loss: 0.0451 - accuracy: 0.9860 - val_loss: 0.3712 - val_accuracy: 0.9336\n",
      "Epoch 49/100\n",
      "67/67 [==============================] - 2s 34ms/step - loss: 0.0493 - accuracy: 0.9860 - val_loss: 0.3425 - val_accuracy: 0.9199\n",
      "Epoch 50/100\n",
      "67/67 [==============================] - 2s 34ms/step - loss: 0.0356 - accuracy: 0.9851 - val_loss: 0.3523 - val_accuracy: 0.9180\n",
      "Epoch 51/100\n",
      "67/67 [==============================] - 2s 34ms/step - loss: 0.0252 - accuracy: 0.9911 - val_loss: 0.4327 - val_accuracy: 0.9277\n",
      "Epoch 52/100\n",
      "67/67 [==============================] - 2s 34ms/step - loss: 0.0182 - accuracy: 0.9935 - val_loss: 0.3554 - val_accuracy: 0.9277\n",
      "Epoch 53/100\n",
      "67/67 [==============================] - 2s 34ms/step - loss: 0.0175 - accuracy: 0.9925 - val_loss: 0.3574 - val_accuracy: 0.9219\n",
      "Epoch 54/100\n",
      "67/67 [==============================] - 2s 34ms/step - loss: 0.0295 - accuracy: 0.9930 - val_loss: 0.3564 - val_accuracy: 0.9277\n",
      "Epoch 55/100\n",
      "67/67 [==============================] - 2s 34ms/step - loss: 0.0427 - accuracy: 0.9860 - val_loss: 0.4569 - val_accuracy: 0.9160\n",
      "Epoch 56/100\n",
      "67/67 [==============================] - 2s 34ms/step - loss: 0.0545 - accuracy: 0.9809 - val_loss: 0.3725 - val_accuracy: 0.9258\n",
      "Epoch 57/100\n",
      "67/67 [==============================] - 2s 34ms/step - loss: 0.0287 - accuracy: 0.9907 - val_loss: 0.3430 - val_accuracy: 0.9238\n",
      "Epoch 58/100\n",
      "67/67 [==============================] - 2s 34ms/step - loss: 0.0306 - accuracy: 0.9893 - val_loss: 0.3850 - val_accuracy: 0.9238\n",
      "Epoch 59/100\n",
      "67/67 [==============================] - 2s 34ms/step - loss: 0.0249 - accuracy: 0.9897 - val_loss: 0.3547 - val_accuracy: 0.9336\n",
      "Epoch 60/100\n",
      "67/67 [==============================] - 2s 34ms/step - loss: 0.0179 - accuracy: 0.9949 - val_loss: 0.4079 - val_accuracy: 0.9336\n",
      "Epoch 61/100\n",
      "67/67 [==============================] - 2s 34ms/step - loss: 0.0357 - accuracy: 0.9893 - val_loss: 0.3716 - val_accuracy: 0.9180\n",
      "Epoch 62/100\n",
      "67/67 [==============================] - 2s 34ms/step - loss: 0.0444 - accuracy: 0.9883 - val_loss: 0.4070 - val_accuracy: 0.9277\n",
      "Epoch 63/100\n",
      "67/67 [==============================] - 2s 34ms/step - loss: 0.0174 - accuracy: 0.9921 - val_loss: 0.4210 - val_accuracy: 0.9316\n",
      "Epoch 64/100\n",
      "67/67 [==============================] - 2s 34ms/step - loss: 0.0115 - accuracy: 0.9958 - val_loss: 0.4063 - val_accuracy: 0.9316\n",
      "Epoch 65/100\n",
      "67/67 [==============================] - 2s 34ms/step - loss: 0.0192 - accuracy: 0.9935 - val_loss: 0.4744 - val_accuracy: 0.9238\n",
      "Epoch 66/100\n",
      "67/67 [==============================] - 2s 34ms/step - loss: 0.0152 - accuracy: 0.9949 - val_loss: 0.5873 - val_accuracy: 0.9258\n",
      "Epoch 67/100\n",
      "67/67 [==============================] - 2s 34ms/step - loss: 0.0181 - accuracy: 0.9972 - val_loss: 0.4985 - val_accuracy: 0.9219\n",
      "Epoch 68/100\n",
      "67/67 [==============================] - 2s 34ms/step - loss: 0.0389 - accuracy: 0.9911 - val_loss: 0.4622 - val_accuracy: 0.9180\n",
      "Epoch 69/100\n",
      "67/67 [==============================] - 2s 34ms/step - loss: 0.0356 - accuracy: 0.9888 - val_loss: 0.3570 - val_accuracy: 0.9258\n",
      "Epoch 70/100\n",
      "67/67 [==============================] - 2s 34ms/step - loss: 0.0307 - accuracy: 0.9874 - val_loss: 0.3784 - val_accuracy: 0.9258\n",
      "Epoch 71/100\n",
      "67/67 [==============================] - 2s 34ms/step - loss: 0.0156 - accuracy: 0.9949 - val_loss: 0.3469 - val_accuracy: 0.9453\n",
      "Epoch 72/100\n",
      "67/67 [==============================] - 2s 34ms/step - loss: 0.0153 - accuracy: 0.9953 - val_loss: 0.3933 - val_accuracy: 0.9277\n",
      "Epoch 73/100\n",
      "67/67 [==============================] - 2s 34ms/step - loss: 0.0150 - accuracy: 0.9958 - val_loss: 0.3706 - val_accuracy: 0.9375\n",
      "Epoch 74/100\n",
      "67/67 [==============================] - 2s 34ms/step - loss: 0.0141 - accuracy: 0.9944 - val_loss: 0.3363 - val_accuracy: 0.9414\n",
      "Epoch 75/100\n",
      "67/67 [==============================] - 2s 34ms/step - loss: 0.0213 - accuracy: 0.9944 - val_loss: 0.4489 - val_accuracy: 0.9336\n",
      "Epoch 76/100\n",
      "67/67 [==============================] - 2s 34ms/step - loss: 0.0349 - accuracy: 0.9893 - val_loss: 0.3162 - val_accuracy: 0.9258\n",
      "Epoch 77/100\n",
      "67/67 [==============================] - 2s 34ms/step - loss: 0.0592 - accuracy: 0.9851 - val_loss: 0.2836 - val_accuracy: 0.9258\n",
      "Epoch 78/100\n",
      "67/67 [==============================] - 2s 34ms/step - loss: 0.0088 - accuracy: 0.9967 - val_loss: 0.4148 - val_accuracy: 0.9199\n",
      "Epoch 79/100\n",
      "67/67 [==============================] - 2s 34ms/step - loss: 0.0183 - accuracy: 0.9953 - val_loss: 0.4912 - val_accuracy: 0.9199\n",
      "Epoch 80/100\n",
      "67/67 [==============================] - 2s 34ms/step - loss: 0.0211 - accuracy: 0.9930 - val_loss: 0.4133 - val_accuracy: 0.9258\n",
      "Epoch 81/100\n",
      "67/67 [==============================] - 2s 34ms/step - loss: 0.0186 - accuracy: 0.9944 - val_loss: 0.5219 - val_accuracy: 0.9219\n",
      "Epoch 82/100\n",
      "67/67 [==============================] - 2s 34ms/step - loss: 0.0249 - accuracy: 0.9930 - val_loss: 0.5489 - val_accuracy: 0.9258\n",
      "Epoch 83/100\n",
      "67/67 [==============================] - 2s 34ms/step - loss: 0.0363 - accuracy: 0.9888 - val_loss: 0.3296 - val_accuracy: 0.9297\n",
      "Epoch 84/100\n",
      "67/67 [==============================] - 2s 34ms/step - loss: 0.0217 - accuracy: 0.9921 - val_loss: 0.3561 - val_accuracy: 0.9316\n",
      "Epoch 85/100\n",
      "67/67 [==============================] - 2s 34ms/step - loss: 0.0200 - accuracy: 0.9939 - val_loss: 0.3922 - val_accuracy: 0.9258\n",
      "Epoch 86/100\n",
      "67/67 [==============================] - 2s 34ms/step - loss: 0.0118 - accuracy: 0.9953 - val_loss: 0.3634 - val_accuracy: 0.9316\n",
      "Epoch 87/100\n",
      "67/67 [==============================] - 2s 34ms/step - loss: 0.0126 - accuracy: 0.9963 - val_loss: 0.3654 - val_accuracy: 0.9316\n",
      "Epoch 88/100\n",
      "67/67 [==============================] - 2s 34ms/step - loss: 0.0244 - accuracy: 0.9902 - val_loss: 0.4438 - val_accuracy: 0.9277\n",
      "Epoch 89/100\n",
      "67/67 [==============================] - 2s 34ms/step - loss: 0.0078 - accuracy: 0.9981 - val_loss: 0.4657 - val_accuracy: 0.9199\n",
      "Epoch 90/100\n",
      "67/67 [==============================] - 2s 34ms/step - loss: 0.0170 - accuracy: 0.9939 - val_loss: 0.5686 - val_accuracy: 0.9102\n",
      "Epoch 91/100\n",
      "67/67 [==============================] - 2s 34ms/step - loss: 0.0120 - accuracy: 0.9958 - val_loss: 0.4907 - val_accuracy: 0.9180\n",
      "Epoch 92/100\n",
      "67/67 [==============================] - 2s 34ms/step - loss: 0.0280 - accuracy: 0.9925 - val_loss: 0.4770 - val_accuracy: 0.9277\n",
      "Epoch 93/100\n",
      "67/67 [==============================] - 2s 34ms/step - loss: 0.0392 - accuracy: 0.9902 - val_loss: 0.3347 - val_accuracy: 0.9316\n",
      "Epoch 94/100\n",
      "67/67 [==============================] - 2s 34ms/step - loss: 0.0168 - accuracy: 0.9939 - val_loss: 0.4510 - val_accuracy: 0.9141\n",
      "Epoch 95/100\n",
      "67/67 [==============================] - 2s 34ms/step - loss: 0.0174 - accuracy: 0.9939 - val_loss: 0.4351 - val_accuracy: 0.9258\n",
      "Epoch 96/100\n",
      "67/67 [==============================] - 2s 34ms/step - loss: 0.0097 - accuracy: 0.9967 - val_loss: 0.4712 - val_accuracy: 0.9102\n",
      "Epoch 97/100\n",
      "67/67 [==============================] - 2s 34ms/step - loss: 0.0103 - accuracy: 0.9967 - val_loss: 0.4051 - val_accuracy: 0.9414\n",
      "Epoch 98/100\n",
      "67/67 [==============================] - 2s 35ms/step - loss: 0.0155 - accuracy: 0.9963 - val_loss: 0.4176 - val_accuracy: 0.9277\n",
      "Epoch 99/100\n",
      "67/67 [==============================] - 2s 35ms/step - loss: 0.0081 - accuracy: 0.9967 - val_loss: 0.4738 - val_accuracy: 0.9219\n",
      "Epoch 100/100\n",
      "67/67 [==============================] - 2s 35ms/step - loss: 0.0097 - accuracy: 0.9958 - val_loss: 0.5080 - val_accuracy: 0.9258\n",
      "21/21 [==============================] - 0s 14ms/step - loss: 0.4909 - accuracy: 0.9345\n"
     ]
    }
   ],
   "source": [
    "for model_type in model_types:\n",
    "    model = make_model(model_type, 75, 125, nb_classes)\n",
    "    train_acc, val_acc, test_acc, history, model = train_model(model)\n",
    "    train_acc_list.append(train_acc)\n",
    "    val_acc_list.append(val_acc)\n",
    "    test_acc_list.append(test_acc)\n",
    "    history_list.append(history)\n",
    "    model_list.append(model)"
   ]
  },
  {
   "cell_type": "code",
   "execution_count": 83,
   "metadata": {},
   "outputs": [],
   "source": [
    "results = pd.DataFrame({'model_types': model_types, 'train_acc': train_acc_list, 'val_acc': val_acc_list, 'test_acc': test_acc_list})"
   ]
  },
  {
   "cell_type": "code",
   "execution_count": 84,
   "metadata": {},
   "outputs": [
    {
     "data": {
      "text/html": [
       "<div>\n",
       "<style scoped>\n",
       "    .dataframe tbody tr th:only-of-type {\n",
       "        vertical-align: middle;\n",
       "    }\n",
       "\n",
       "    .dataframe tbody tr th {\n",
       "        vertical-align: top;\n",
       "    }\n",
       "\n",
       "    .dataframe thead th {\n",
       "        text-align: right;\n",
       "    }\n",
       "</style>\n",
       "<table border=\"1\" class=\"dataframe\">\n",
       "  <thead>\n",
       "    <tr style=\"text-align: right;\">\n",
       "      <th></th>\n",
       "      <th>model_types</th>\n",
       "      <th>train_acc</th>\n",
       "      <th>val_acc</th>\n",
       "      <th>test_acc</th>\n",
       "    </tr>\n",
       "  </thead>\n",
       "  <tbody>\n",
       "    <tr>\n",
       "      <th>0</th>\n",
       "      <td>2-4</td>\n",
       "      <td>0.972923</td>\n",
       "      <td>0.884766</td>\n",
       "      <td>0.882440</td>\n",
       "    </tr>\n",
       "    <tr>\n",
       "      <th>1</th>\n",
       "      <td>4-8</td>\n",
       "      <td>0.963119</td>\n",
       "      <td>0.902344</td>\n",
       "      <td>0.916667</td>\n",
       "    </tr>\n",
       "    <tr>\n",
       "      <th>2</th>\n",
       "      <td>8-16</td>\n",
       "      <td>0.992063</td>\n",
       "      <td>0.933594</td>\n",
       "      <td>0.936012</td>\n",
       "    </tr>\n",
       "    <tr>\n",
       "      <th>3</th>\n",
       "      <td>16-32</td>\n",
       "      <td>0.992997</td>\n",
       "      <td>0.917969</td>\n",
       "      <td>0.921131</td>\n",
       "    </tr>\n",
       "    <tr>\n",
       "      <th>4</th>\n",
       "      <td>32-64</td>\n",
       "      <td>0.992063</td>\n",
       "      <td>0.927734</td>\n",
       "      <td>0.933036</td>\n",
       "    </tr>\n",
       "    <tr>\n",
       "      <th>5</th>\n",
       "      <td>64-128</td>\n",
       "      <td>0.995798</td>\n",
       "      <td>0.925781</td>\n",
       "      <td>0.934524</td>\n",
       "    </tr>\n",
       "  </tbody>\n",
       "</table>\n",
       "</div>"
      ],
      "text/plain": [
       "  model_types  train_acc   val_acc  test_acc\n",
       "0         2-4   0.972923  0.884766  0.882440\n",
       "1         4-8   0.963119  0.902344  0.916667\n",
       "2        8-16   0.992063  0.933594  0.936012\n",
       "3       16-32   0.992997  0.917969  0.921131\n",
       "4       32-64   0.992063  0.927734  0.933036\n",
       "5      64-128   0.995798  0.925781  0.934524"
      ]
     },
     "execution_count": 84,
     "metadata": {},
     "output_type": "execute_result"
    }
   ],
   "source": [
    "results"
   ]
  },
  {
   "cell_type": "markdown",
   "metadata": {},
   "source": [
    "找到最好的模型，画出训练过程中的准确率和loss的变化曲线，以及最终测试集上的confusion matrix"
   ]
  },
  {
   "cell_type": "code",
   "execution_count": 85,
   "metadata": {},
   "outputs": [],
   "source": [
    "final_history = history_list[2]\n",
    "final_model = model_list[2]"
   ]
  },
  {
   "cell_type": "code",
   "execution_count": 89,
   "metadata": {},
   "outputs": [],
   "source": [
    "import matplotlib\n",
    "import matplotlib.pyplot as plt\n",
    "%matplotlib inline\n",
    "\n",
    "matplotlib.rcParams['font.size'] = 20"
   ]
  },
  {
   "cell_type": "code",
   "execution_count": 90,
   "metadata": {},
   "outputs": [],
   "source": [
    "def plot_training(history, save_fn):\n",
    "    import pandas as pd\n",
    "    import matplotlib.pyplot as plt\n",
    "    hist = pd.DataFrame(history.history)\n",
    "    hist['epoch'] = history.epoch\n",
    "    \n",
    "    plt.figure(figsize=[12, 9])\n",
    "    plt.xlabel('Epoch')\n",
    "    plt.ylabel('Accuracy')\n",
    "    plt.plot(hist['epoch'], hist['accuracy'],\n",
    "             label='Train Accuracy')\n",
    "    plt.plot(hist['epoch'], hist['val_accuracy'],\n",
    "             label = 'Validation Accuracy')\n",
    "    plt.legend()\n",
    "    \n",
    "    plt.savefig(save_fn, dpi=400, bbox_inches='tight')"
   ]
  },
  {
   "cell_type": "code",
   "execution_count": 91,
   "metadata": {},
   "outputs": [],
   "source": [
    "def plot_training_loss(history, save_fn):\n",
    "    import pandas as pd\n",
    "    import matplotlib.pyplot as plt\n",
    "    hist = pd.DataFrame(history.history)\n",
    "    hist['epoch'] = history.epoch\n",
    "    \n",
    "    plt.figure(figsize=[12, 9])\n",
    "    plt.xlabel('Epoch')\n",
    "    plt.ylabel('Loss')\n",
    "    plt.plot(hist['epoch'], hist['loss'],\n",
    "             label='Train Loss')\n",
    "    plt.plot(hist['epoch'], hist['val_loss'],\n",
    "             label = 'Validation Loss')\n",
    "    plt.legend()\n",
    "    \n",
    "    plt.savefig(save_fn, dpi=400, bbox_inches='tight')"
   ]
  },
  {
   "cell_type": "code",
   "execution_count": 92,
   "metadata": {},
   "outputs": [
    {
     "data": {
      "image/png": "[encoded data removed]",
      "text/plain": [
       "<Figure size 864x648 with 1 Axes>"
      ]
     },
     "metadata": {
      "needs_background": "light"
     },
     "output_type": "display_data"
    }
   ],
   "source": [
    "plot_training(final_history, 'activity_accuracy.png')"
   ]
  },
  {
   "cell_type": "code",
   "execution_count": 93,
   "metadata": {},
   "outputs": [
    {
     "data": {
      "image/png": "[encoded data removed]",
      "text/plain": [
       "<Figure size 864x648 with 1 Axes>"
      ]
     },
     "metadata": {
      "needs_background": "light"
     },
     "output_type": "display_data"
    }
   ],
   "source": [
    "plot_training_loss(final_history, 'activity_loss.png')"
   ]
  },
  {
   "cell_type": "markdown",
   "metadata": {},
   "source": [
    "利用预测所有的测试样本："
   ]
  },
  {
   "cell_type": "code",
   "execution_count": 94,
   "metadata": {},
   "outputs": [
    {
     "data": {
      "text/plain": [
       "(680, 5)"
      ]
     },
     "execution_count": 94,
     "metadata": {},
     "output_type": "execute_result"
    }
   ],
   "source": [
    "strat_test_set.shape"
   ]
  },
  {
   "cell_type": "code",
   "execution_count": null,
   "metadata": {},
   "outputs": [],
   "source": []
  },
  {
   "cell_type": "code",
   "execution_count": 95,
   "metadata": {},
   "outputs": [
    {
     "name": "stdout",
     "output_type": "stream",
     "text": [
      "Found 680 validated image filenames.\n"
     ]
    }
   ],
   "source": [
    "# 图像归一化\n",
    "datagen=ImageDataGenerator(rescale=1./255)\n",
    "\n",
    "test_generator=datagen.flow_from_dataframe(dataframe=strat_test_set, \n",
    "                                            x_col=X_col,\n",
    "                                            y_col=y_col,\n",
    "                                            class_mode=\"raw\",\n",
    "                                            color_mode=\"grayscale\",  # 按照灰度图处理\n",
    "                                            target_size=target_size,  # 把图片变小\n",
    "                                            batch_size=strat_test_set.shape[0]) # 一次读取所有测试图片"
   ]
  },
  {
   "cell_type": "code",
   "execution_count": 99,
   "metadata": {},
   "outputs": [
    {
     "name": "stdout",
     "output_type": "stream",
     "text": [
      "(680, 75, 125, 1)\n"
     ]
    }
   ],
   "source": [
    "for X_batch, y_batch in test_generator:\n",
    "    print(X_batch.shape)\n",
    "    y_true = y_batch\n",
    "    y_pred = final_model.predict(X_batch)\n",
    "    break"
   ]
  },
  {
   "cell_type": "code",
   "execution_count": 100,
   "metadata": {},
   "outputs": [
    {
     "data": {
      "text/plain": [
       "(680,)"
      ]
     },
     "execution_count": 100,
     "metadata": {},
     "output_type": "execute_result"
    }
   ],
   "source": [
    "y_true.shape"
   ]
  },
  {
   "cell_type": "code",
   "execution_count": 101,
   "metadata": {},
   "outputs": [
    {
     "data": {
      "text/plain": [
       "(680, 6)"
      ]
     },
     "execution_count": 101,
     "metadata": {},
     "output_type": "execute_result"
    }
   ],
   "source": [
    "y_pred.shape"
   ]
  },
  {
   "cell_type": "code",
   "execution_count": 106,
   "metadata": {},
   "outputs": [],
   "source": [
    "import numpy as np\n",
    "y_pred_labels = np.floor(np.argmax(y_pred, axis=1)).astype(int)"
   ]
  },
  {
   "cell_type": "code",
   "execution_count": 107,
   "metadata": {},
   "outputs": [
    {
     "data": {
      "text/plain": [
       "3"
      ]
     },
     "execution_count": 107,
     "metadata": {},
     "output_type": "execute_result"
    }
   ],
   "source": [
    "y_pred_labels[0]"
   ]
  },
  {
   "cell_type": "code",
   "execution_count": 105,
   "metadata": {},
   "outputs": [
    {
     "data": {
      "text/plain": [
       "array([5.19752545e-16, 1.74448118e-07, 7.29921124e-10, 9.99879241e-01,\n",
       "       1.20587974e-04, 1.28314037e-12], dtype=float32)"
      ]
     },
     "execution_count": 105,
     "metadata": {},
     "output_type": "execute_result"
    }
   ],
   "source": [
    "y_pred[0]"
   ]
  },
  {
   "cell_type": "markdown",
   "metadata": {},
   "source": [
    "把标签映射为相应的动作："
   ]
  },
  {
   "cell_type": "code",
   "execution_count": 110,
   "metadata": {},
   "outputs": [
    {
     "data": {
      "text/plain": [
       "array([1, 2, 3, 4, 5, 6], dtype=int64)"
      ]
     },
     "execution_count": 110,
     "metadata": {},
     "output_type": "execute_result"
    }
   ],
   "source": [
    "activity_encoder.inverse_transform([0, 1, 2, 3, 4, 5])"
   ]
  },
  {
   "cell_type": "code",
   "execution_count": 111,
   "metadata": {},
   "outputs": [],
   "source": [
    "activity_list = ['walking', 'sitting down', 'stand up', 'pick up an object', 'drink water', 'fall']"
   ]
  },
  {
   "cell_type": "code",
   "execution_count": 112,
   "metadata": {},
   "outputs": [],
   "source": [
    "y_true_names = [activity_list[i] for i in y_true]\n",
    "y_pred_names = [activity_list[i] for i in y_pred_labels]"
   ]
  },
  {
   "cell_type": "code",
   "execution_count": 113,
   "metadata": {},
   "outputs": [
    {
     "data": {
      "text/plain": [
       "'pick up an object'"
      ]
     },
     "execution_count": 113,
     "metadata": {},
     "output_type": "execute_result"
    }
   ],
   "source": [
    "y_true_names[0]"
   ]
  },
  {
   "cell_type": "code",
   "execution_count": 114,
   "metadata": {},
   "outputs": [
    {
     "data": {
      "text/plain": [
       "'pick up an object'"
      ]
     },
     "execution_count": 114,
     "metadata": {},
     "output_type": "execute_result"
    }
   ],
   "source": [
    "y_pred_names[0]"
   ]
  },
  {
   "cell_type": "code",
   "execution_count": 115,
   "metadata": {},
   "outputs": [
    {
     "data": {
      "image/png": "[encoded data removed]",
      "text/plain": [
       "<Figure size 864x648 with 2 Axes>"
      ]
     },
     "metadata": {
      "needs_background": "light"
     },
     "output_type": "display_data"
    }
   ],
   "source": [
    "from sklearn.metrics import confusion_matrix\n",
    "import pandas as pd\n",
    "import seaborn as sn\n",
    "import matplotlib.pyplot as plt\n",
    "%matplotlib inline\n",
    "import numpy as np\n",
    "\n",
    "data = confusion_matrix(y_true_names, y_pred_names)\n",
    "df_cm = pd.DataFrame(data, columns=np.unique(y_true_names), index = np.unique(y_true_names))\n",
    "df_cm = df_cm.reindex(columns=activity_list, index=activity_list)\n",
    "df_cm.index.name = 'Actual Activity'\n",
    "df_cm.columns.name = 'Predicted Activity'\n",
    "plt.figure(figsize = (12, 9))\n",
    "sn.set(font_scale=1.4)  # for label size\n",
    "sn.heatmap(df_cm, cmap=\"Blues\", annot=True, fmt='d', annot_kws={\"size\": 12})  # font size\n",
    "plt.savefig('activities-confusion-matrix.png', dpi=400, bbox_inches='tight')"
   ]
  }
 ],
 "metadata": {
  "kernelspec": {
   "display_name": "Python 3",
   "language": "python",
   "name": "python3"
  },
  "language_info": {
   "codemirror_mode": {
    "name": "ipython",
    "version": 3
   },
   "file_extension": ".py",
   "mimetype": "text/x-python",
   "name": "python",
   "nbconvert_exporter": "python",
   "pygments_lexer": "ipython3",
   "version": "3.8.8"
  }
 },
 "nbformat": 4,
 "nbformat_minor": 2
}
